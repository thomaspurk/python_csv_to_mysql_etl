{
 "cells": [
  {
   "cell_type": "markdown",
   "id": "405d60a0",
   "metadata": {},
   "source": [
    "# Exploratory Data Analysis\n",
    "\n",
    "Perform initial investigations to expose how the source data is formated."
   ]
  },
  {
   "cell_type": "code",
   "execution_count": null,
   "id": "1e2bc0cb",
   "metadata": {},
   "outputs": [],
   "source": [
    "# Setup Notebook\n",
    "\n",
    "import os\n",
    "import pandas as pd\n",
    "from sqlalchemy import create_engine\n",
    "from dotenv import load_dotenv\n",
    "load_dotenv(\"../.env.development.local\")\n",
    "\n",
    "DB_CONFIG = {\n",
    "    'host':os.environ.get(\"DB_HOST\"),\n",
    "    'user':os.environ.get(\"DB_USER\"),\n",
    "    'password':os.environ.get(\"DB_PASSWORD\"),\n",
    "}\n",
    "\n",
    "# TODO Get from ENV file\n",
    "SOURCE_DATA_FILE = \"source/Sample - Superstore.csv\"\n",
    "# Load the Source CSV into a data frame\n",
    "df_source = pd.read_csv(SOURCE_DATA_FILE)"
   ]
  },
  {
   "cell_type": "code",
   "execution_count": 137,
   "id": "b428627e",
   "metadata": {},
   "outputs": [
    {
     "name": "stdout",
     "output_type": "stream",
     "text": [
      "<class 'pandas.core.frame.DataFrame'>\n",
      "RangeIndex: 9994 entries, 0 to 9993\n",
      "Data columns (total 21 columns):\n",
      " #   Column         Non-Null Count  Dtype  \n",
      "---  ------         --------------  -----  \n",
      " 0   Row ID         9994 non-null   int64  \n",
      " 1   Order ID       9994 non-null   object \n",
      " 2   Order Date     9994 non-null   object \n",
      " 3   Ship Date      9994 non-null   object \n",
      " 4   Ship Mode      9994 non-null   object \n",
      " 5   Customer ID    9994 non-null   object \n",
      " 6   Customer Name  9994 non-null   object \n",
      " 7   Segment        9994 non-null   object \n",
      " 8   Country        9994 non-null   object \n",
      " 9   City           9994 non-null   object \n",
      " 10  State          9994 non-null   object \n",
      " 11  Postal Code    9994 non-null   int64  \n",
      " 12  Region         9994 non-null   object \n",
      " 13  Product ID     9994 non-null   object \n",
      " 14  Category       9994 non-null   object \n",
      " 15  Sub-Category   9994 non-null   object \n",
      " 16  Product Name   9994 non-null   object \n",
      " 17  Sales          9994 non-null   float64\n",
      " 18  Quantity       9994 non-null   int64  \n",
      " 19  Discount       9994 non-null   float64\n",
      " 20  Profit         9994 non-null   float64\n",
      "dtypes: float64(3), int64(3), object(15)\n",
      "memory usage: 1.6+ MB\n"
     ]
    }
   ],
   "source": [
    "df_source.info()"
   ]
  },
  {
   "cell_type": "code",
   "execution_count": 138,
   "id": "26fd2034",
   "metadata": {},
   "outputs": [
    {
     "data": {
      "application/vnd.microsoft.datawrangler.viewer.v0+json": {
       "columns": [
        {
         "name": "index",
         "rawType": "int64",
         "type": "integer"
        },
        {
         "name": "Row ID",
         "rawType": "int64",
         "type": "integer"
        },
        {
         "name": "Order ID",
         "rawType": "object",
         "type": "string"
        },
        {
         "name": "Order Date",
         "rawType": "object",
         "type": "string"
        },
        {
         "name": "Ship Date",
         "rawType": "object",
         "type": "string"
        },
        {
         "name": "Ship Mode",
         "rawType": "object",
         "type": "string"
        },
        {
         "name": "Customer ID",
         "rawType": "object",
         "type": "string"
        },
        {
         "name": "Customer Name",
         "rawType": "object",
         "type": "string"
        },
        {
         "name": "Segment",
         "rawType": "object",
         "type": "string"
        },
        {
         "name": "Country",
         "rawType": "object",
         "type": "string"
        },
        {
         "name": "City",
         "rawType": "object",
         "type": "string"
        },
        {
         "name": "State",
         "rawType": "object",
         "type": "string"
        },
        {
         "name": "Postal Code",
         "rawType": "int64",
         "type": "integer"
        },
        {
         "name": "Region",
         "rawType": "object",
         "type": "string"
        },
        {
         "name": "Product ID",
         "rawType": "object",
         "type": "string"
        },
        {
         "name": "Category",
         "rawType": "object",
         "type": "string"
        },
        {
         "name": "Sub-Category",
         "rawType": "object",
         "type": "string"
        },
        {
         "name": "Product Name",
         "rawType": "object",
         "type": "string"
        },
        {
         "name": "Sales",
         "rawType": "float64",
         "type": "float"
        },
        {
         "name": "Quantity",
         "rawType": "int64",
         "type": "integer"
        },
        {
         "name": "Discount",
         "rawType": "float64",
         "type": "float"
        },
        {
         "name": "Profit",
         "rawType": "float64",
         "type": "float"
        }
       ],
       "ref": "8d22d1a0-a5cb-4b57-81aa-1a047a0c2912",
       "rows": [
        [
         "0",
         "1",
         "CA-2016-152156",
         "11/8/2016",
         "11/11/2016",
         "Second Class",
         "CG-12520",
         "Claire Gute",
         "Consumer",
         "United States",
         "Henderson",
         "Kentucky",
         "42420",
         "South",
         "FUR-BO-10001798",
         "Furniture",
         "Bookcases",
         "Bush Somerset Collection Bookcase",
         "261.96",
         "2",
         "0.0",
         "41.9136"
        ],
        [
         "1",
         "2",
         "CA-2016-152156",
         "11/8/2016",
         "11/11/2016",
         "Second Class",
         "CG-12520",
         "Claire Gute",
         "Consumer",
         "United States",
         "Henderson",
         "Kentucky",
         "42420",
         "South",
         "FUR-CH-10000454",
         "Furniture",
         "Chairs",
         "Hon Deluxe Fabric Upholstered Stacking Chairs, Rounded Back",
         "731.94",
         "3",
         "0.0",
         "219.582"
        ],
        [
         "2",
         "3",
         "CA-2016-138688",
         "6/12/2016",
         "6/16/2016",
         "Second Class",
         "DV-13045",
         "Darrin Van Huff",
         "Corporate",
         "United States",
         "Los Angeles",
         "California",
         "90036",
         "West",
         "OFF-LA-10000240",
         "Office Supplies",
         "Labels",
         "Self-Adhesive Address Labels for Typewriters by Universal",
         "14.62",
         "2",
         "0.0",
         "6.8714"
        ],
        [
         "3",
         "4",
         "US-2015-108966",
         "10/11/2015",
         "10/18/2015",
         "Standard Class",
         "SO-20335",
         "Sean O'Donnell",
         "Consumer",
         "United States",
         "Fort Lauderdale",
         "Florida",
         "33311",
         "South",
         "FUR-TA-10000577",
         "Furniture",
         "Tables",
         "Bretford CR4500 Series Slim Rectangular Table",
         "957.5775",
         "5",
         "0.45",
         "-383.031"
        ],
        [
         "4",
         "5",
         "US-2015-108966",
         "10/11/2015",
         "10/18/2015",
         "Standard Class",
         "SO-20335",
         "Sean O'Donnell",
         "Consumer",
         "United States",
         "Fort Lauderdale",
         "Florida",
         "33311",
         "South",
         "OFF-ST-10000760",
         "Office Supplies",
         "Storage",
         "Eldon Fold 'N Roll Cart System",
         "22.368",
         "2",
         "0.2",
         "2.5164"
        ]
       ],
       "shape": {
        "columns": 21,
        "rows": 5
       }
      },
      "text/html": [
       "<div>\n",
       "<style scoped>\n",
       "    .dataframe tbody tr th:only-of-type {\n",
       "        vertical-align: middle;\n",
       "    }\n",
       "\n",
       "    .dataframe tbody tr th {\n",
       "        vertical-align: top;\n",
       "    }\n",
       "\n",
       "    .dataframe thead th {\n",
       "        text-align: right;\n",
       "    }\n",
       "</style>\n",
       "<table border=\"1\" class=\"dataframe\">\n",
       "  <thead>\n",
       "    <tr style=\"text-align: right;\">\n",
       "      <th></th>\n",
       "      <th>Row ID</th>\n",
       "      <th>Order ID</th>\n",
       "      <th>Order Date</th>\n",
       "      <th>Ship Date</th>\n",
       "      <th>Ship Mode</th>\n",
       "      <th>Customer ID</th>\n",
       "      <th>Customer Name</th>\n",
       "      <th>Segment</th>\n",
       "      <th>Country</th>\n",
       "      <th>City</th>\n",
       "      <th>...</th>\n",
       "      <th>Postal Code</th>\n",
       "      <th>Region</th>\n",
       "      <th>Product ID</th>\n",
       "      <th>Category</th>\n",
       "      <th>Sub-Category</th>\n",
       "      <th>Product Name</th>\n",
       "      <th>Sales</th>\n",
       "      <th>Quantity</th>\n",
       "      <th>Discount</th>\n",
       "      <th>Profit</th>\n",
       "    </tr>\n",
       "  </thead>\n",
       "  <tbody>\n",
       "    <tr>\n",
       "      <th>0</th>\n",
       "      <td>1</td>\n",
       "      <td>CA-2016-152156</td>\n",
       "      <td>11/8/2016</td>\n",
       "      <td>11/11/2016</td>\n",
       "      <td>Second Class</td>\n",
       "      <td>CG-12520</td>\n",
       "      <td>Claire Gute</td>\n",
       "      <td>Consumer</td>\n",
       "      <td>United States</td>\n",
       "      <td>Henderson</td>\n",
       "      <td>...</td>\n",
       "      <td>42420</td>\n",
       "      <td>South</td>\n",
       "      <td>FUR-BO-10001798</td>\n",
       "      <td>Furniture</td>\n",
       "      <td>Bookcases</td>\n",
       "      <td>Bush Somerset Collection Bookcase</td>\n",
       "      <td>261.9600</td>\n",
       "      <td>2</td>\n",
       "      <td>0.00</td>\n",
       "      <td>41.9136</td>\n",
       "    </tr>\n",
       "    <tr>\n",
       "      <th>1</th>\n",
       "      <td>2</td>\n",
       "      <td>CA-2016-152156</td>\n",
       "      <td>11/8/2016</td>\n",
       "      <td>11/11/2016</td>\n",
       "      <td>Second Class</td>\n",
       "      <td>CG-12520</td>\n",
       "      <td>Claire Gute</td>\n",
       "      <td>Consumer</td>\n",
       "      <td>United States</td>\n",
       "      <td>Henderson</td>\n",
       "      <td>...</td>\n",
       "      <td>42420</td>\n",
       "      <td>South</td>\n",
       "      <td>FUR-CH-10000454</td>\n",
       "      <td>Furniture</td>\n",
       "      <td>Chairs</td>\n",
       "      <td>Hon Deluxe Fabric Upholstered Stacking Chairs,...</td>\n",
       "      <td>731.9400</td>\n",
       "      <td>3</td>\n",
       "      <td>0.00</td>\n",
       "      <td>219.5820</td>\n",
       "    </tr>\n",
       "    <tr>\n",
       "      <th>2</th>\n",
       "      <td>3</td>\n",
       "      <td>CA-2016-138688</td>\n",
       "      <td>6/12/2016</td>\n",
       "      <td>6/16/2016</td>\n",
       "      <td>Second Class</td>\n",
       "      <td>DV-13045</td>\n",
       "      <td>Darrin Van Huff</td>\n",
       "      <td>Corporate</td>\n",
       "      <td>United States</td>\n",
       "      <td>Los Angeles</td>\n",
       "      <td>...</td>\n",
       "      <td>90036</td>\n",
       "      <td>West</td>\n",
       "      <td>OFF-LA-10000240</td>\n",
       "      <td>Office Supplies</td>\n",
       "      <td>Labels</td>\n",
       "      <td>Self-Adhesive Address Labels for Typewriters b...</td>\n",
       "      <td>14.6200</td>\n",
       "      <td>2</td>\n",
       "      <td>0.00</td>\n",
       "      <td>6.8714</td>\n",
       "    </tr>\n",
       "    <tr>\n",
       "      <th>3</th>\n",
       "      <td>4</td>\n",
       "      <td>US-2015-108966</td>\n",
       "      <td>10/11/2015</td>\n",
       "      <td>10/18/2015</td>\n",
       "      <td>Standard Class</td>\n",
       "      <td>SO-20335</td>\n",
       "      <td>Sean O'Donnell</td>\n",
       "      <td>Consumer</td>\n",
       "      <td>United States</td>\n",
       "      <td>Fort Lauderdale</td>\n",
       "      <td>...</td>\n",
       "      <td>33311</td>\n",
       "      <td>South</td>\n",
       "      <td>FUR-TA-10000577</td>\n",
       "      <td>Furniture</td>\n",
       "      <td>Tables</td>\n",
       "      <td>Bretford CR4500 Series Slim Rectangular Table</td>\n",
       "      <td>957.5775</td>\n",
       "      <td>5</td>\n",
       "      <td>0.45</td>\n",
       "      <td>-383.0310</td>\n",
       "    </tr>\n",
       "    <tr>\n",
       "      <th>4</th>\n",
       "      <td>5</td>\n",
       "      <td>US-2015-108966</td>\n",
       "      <td>10/11/2015</td>\n",
       "      <td>10/18/2015</td>\n",
       "      <td>Standard Class</td>\n",
       "      <td>SO-20335</td>\n",
       "      <td>Sean O'Donnell</td>\n",
       "      <td>Consumer</td>\n",
       "      <td>United States</td>\n",
       "      <td>Fort Lauderdale</td>\n",
       "      <td>...</td>\n",
       "      <td>33311</td>\n",
       "      <td>South</td>\n",
       "      <td>OFF-ST-10000760</td>\n",
       "      <td>Office Supplies</td>\n",
       "      <td>Storage</td>\n",
       "      <td>Eldon Fold 'N Roll Cart System</td>\n",
       "      <td>22.3680</td>\n",
       "      <td>2</td>\n",
       "      <td>0.20</td>\n",
       "      <td>2.5164</td>\n",
       "    </tr>\n",
       "  </tbody>\n",
       "</table>\n",
       "<p>5 rows × 21 columns</p>\n",
       "</div>"
      ],
      "text/plain": [
       "   Row ID        Order ID  Order Date   Ship Date       Ship Mode Customer ID  \\\n",
       "0       1  CA-2016-152156   11/8/2016  11/11/2016    Second Class    CG-12520   \n",
       "1       2  CA-2016-152156   11/8/2016  11/11/2016    Second Class    CG-12520   \n",
       "2       3  CA-2016-138688   6/12/2016   6/16/2016    Second Class    DV-13045   \n",
       "3       4  US-2015-108966  10/11/2015  10/18/2015  Standard Class    SO-20335   \n",
       "4       5  US-2015-108966  10/11/2015  10/18/2015  Standard Class    SO-20335   \n",
       "\n",
       "     Customer Name    Segment        Country             City  ...  \\\n",
       "0      Claire Gute   Consumer  United States        Henderson  ...   \n",
       "1      Claire Gute   Consumer  United States        Henderson  ...   \n",
       "2  Darrin Van Huff  Corporate  United States      Los Angeles  ...   \n",
       "3   Sean O'Donnell   Consumer  United States  Fort Lauderdale  ...   \n",
       "4   Sean O'Donnell   Consumer  United States  Fort Lauderdale  ...   \n",
       "\n",
       "  Postal Code  Region       Product ID         Category Sub-Category  \\\n",
       "0       42420   South  FUR-BO-10001798        Furniture    Bookcases   \n",
       "1       42420   South  FUR-CH-10000454        Furniture       Chairs   \n",
       "2       90036    West  OFF-LA-10000240  Office Supplies       Labels   \n",
       "3       33311   South  FUR-TA-10000577        Furniture       Tables   \n",
       "4       33311   South  OFF-ST-10000760  Office Supplies      Storage   \n",
       "\n",
       "                                        Product Name     Sales  Quantity  \\\n",
       "0                  Bush Somerset Collection Bookcase  261.9600         2   \n",
       "1  Hon Deluxe Fabric Upholstered Stacking Chairs,...  731.9400         3   \n",
       "2  Self-Adhesive Address Labels for Typewriters b...   14.6200         2   \n",
       "3      Bretford CR4500 Series Slim Rectangular Table  957.5775         5   \n",
       "4                     Eldon Fold 'N Roll Cart System   22.3680         2   \n",
       "\n",
       "   Discount    Profit  \n",
       "0      0.00   41.9136  \n",
       "1      0.00  219.5820  \n",
       "2      0.00    6.8714  \n",
       "3      0.45 -383.0310  \n",
       "4      0.20    2.5164  \n",
       "\n",
       "[5 rows x 21 columns]"
      ]
     },
     "execution_count": 138,
     "metadata": {},
     "output_type": "execute_result"
    }
   ],
   "source": [
    "df_source.head()"
   ]
  },
  {
   "cell_type": "code",
   "execution_count": 139,
   "id": "872fed5e",
   "metadata": {},
   "outputs": [
    {
     "data": {
      "text/plain": [
       "Index(['Row ID', 'Order ID', 'Order Date', 'Ship Date', 'Ship Mode',\n",
       "       'Customer ID', 'Customer Name', 'Segment', 'Country', 'City', 'State',\n",
       "       'Postal Code', 'Region', 'Product ID', 'Category', 'Sub-Category',\n",
       "       'Product Name', 'Sales', 'Quantity', 'Discount', 'Profit'],\n",
       "      dtype='object')"
      ]
     },
     "execution_count": 139,
     "metadata": {},
     "output_type": "execute_result"
    }
   ],
   "source": [
    "df_source.columns"
   ]
  },
  {
   "cell_type": "code",
   "execution_count": 140,
   "id": "7dd9b1f5",
   "metadata": {},
   "outputs": [
    {
     "data": {
      "text/plain": [
       "False"
      ]
     },
     "execution_count": 140,
     "metadata": {},
     "output_type": "execute_result"
    }
   ],
   "source": [
    "# Question - Are Customer IDs associated more than one address\n",
    "df_orders = df_source[['Customer ID','Country','Region', 'State','City','Postal Code']]\n",
    "df_orders = df_orders.drop_duplicates()\n",
    "\n",
    "# Now let's see if Order ID is repeated. If so that means an order can be sent to more than one address\n",
    "df_orders['Customer ID'].is_unique\n",
    "\n",
    "# Answer - Customer Ids associated with more than 1 address\n",
    "# So the address columns cannot be a property of the Customer object without repeating customer ids"
   ]
  },
  {
   "cell_type": "code",
   "execution_count": 118,
   "id": "51af7b82",
   "metadata": {},
   "outputs": [
    {
     "data": {
      "text/plain": [
       "True"
      ]
     },
     "execution_count": 118,
     "metadata": {},
     "output_type": "execute_result"
    }
   ],
   "source": [
    "# Question - Are Order Ids ever sent to more than one address\n",
    "df_orders = df_source[['Order ID','Country','Region', 'State','City','Postal Code']]\n",
    "df_orders = df_orders.drop_duplicates()\n",
    "\n",
    "# Now let's see if Order ID is repeated. If so that means an order can be sent to more than one address\n",
    "df_orders['Order ID'].is_unique\n",
    "\n",
    "# Answer - Order Ids are never sent to more than 1 address\n",
    "# So the address columns can be a property of the Order object"
   ]
  },
  {
   "cell_type": "code",
   "execution_count": 141,
   "id": "dfadc4e9",
   "metadata": {},
   "outputs": [
    {
     "data": {
      "application/vnd.microsoft.datawrangler.viewer.v0+json": {
       "columns": [
        {
         "name": "index",
         "rawType": "int64",
         "type": "integer"
        },
        {
         "name": "Product ID",
         "rawType": "object",
         "type": "string"
        },
        {
         "name": "Category",
         "rawType": "object",
         "type": "string"
        },
        {
         "name": "Sub-Category",
         "rawType": "object",
         "type": "string"
        },
        {
         "name": "Product Name",
         "rawType": "object",
         "type": "string"
        }
       ],
       "ref": "58b905c8-a6d1-49d4-a92e-79515cb21047",
       "rows": [
        [
         "0",
         "FUR-BO-10001798",
         "Furniture",
         "Bookcases",
         "Bush Somerset Collection Bookcase"
        ],
        [
         "1",
         "FUR-CH-10000454",
         "Furniture",
         "Chairs",
         "Hon Deluxe Fabric Upholstered Stacking Chairs, Rounded Back"
        ],
        [
         "2",
         "OFF-LA-10000240",
         "Office Supplies",
         "Labels",
         "Self-Adhesive Address Labels for Typewriters by Universal"
        ],
        [
         "3",
         "FUR-TA-10000577",
         "Furniture",
         "Tables",
         "Bretford CR4500 Series Slim Rectangular Table"
        ],
        [
         "4",
         "OFF-ST-10000760",
         "Office Supplies",
         "Storage",
         "Eldon Fold 'N Roll Cart System"
        ],
        [
         "5",
         "FUR-FU-10001487",
         "Furniture",
         "Furnishings",
         "Eldon Expressions Wood and Plastic Desk Accessories, Cherry Wood"
        ],
        [
         "6",
         "OFF-AR-10002833",
         "Office Supplies",
         "Art",
         "Newell 322"
        ],
        [
         "7",
         "TEC-PH-10002275",
         "Technology",
         "Phones",
         "Mitel 5320 IP Phone VoIP phone"
        ],
        [
         "8",
         "OFF-BI-10003910",
         "Office Supplies",
         "Binders",
         "DXL Angle-View Binders with Locking Rings by Samsill"
        ],
        [
         "9",
         "OFF-AP-10002892",
         "Office Supplies",
         "Appliances",
         "Belkin F5C206VTEL 6 Outlet Surge"
        ],
        [
         "10",
         "FUR-TA-10001539",
         "Furniture",
         "Tables",
         "Chromcraft Rectangular Conference Tables"
        ],
        [
         "11",
         "TEC-PH-10002033",
         "Technology",
         "Phones",
         "Konftel 250 Conference phone - Charcoal black"
        ],
        [
         "12",
         "OFF-PA-10002365",
         "Office Supplies",
         "Paper",
         "Xerox 1967"
        ],
        [
         "13",
         "OFF-BI-10003656",
         "Office Supplies",
         "Binders",
         "Fellowes PB200 Plastic Comb Binding Machine"
        ],
        [
         "14",
         "OFF-AP-10002311",
         "Office Supplies",
         "Appliances",
         "Holmes Replacement Filter for HEPA Air Cleaner, Very Large Room, HEPA Filter"
        ],
        [
         "15",
         "OFF-BI-10000756",
         "Office Supplies",
         "Binders",
         "Storex DuraTech Recycled Plastic Frosted Binders"
        ],
        [
         "16",
         "OFF-ST-10004186",
         "Office Supplies",
         "Storage",
         "Stur-D-Stor Shelving, Vertical 5-Shelf: 72\"H x 36\"W x 18 1/2\"D"
        ],
        [
         "17",
         "OFF-ST-10000107",
         "Office Supplies",
         "Storage",
         "Fellowes Super Stor/Drawer"
        ],
        [
         "18",
         "OFF-AR-10003056",
         "Office Supplies",
         "Art",
         "Newell 341"
        ],
        [
         "19",
         "TEC-PH-10001949",
         "Technology",
         "Phones",
         "Cisco SPA 501G IP Phone"
        ],
        [
         "20",
         "OFF-BI-10002215",
         "Office Supplies",
         "Binders",
         "Wilson Jones Hanging View Binder, White, 1\""
        ],
        [
         "21",
         "OFF-AR-10000246",
         "Office Supplies",
         "Art",
         "Newell 318"
        ],
        [
         "22",
         "OFF-AP-10001492",
         "Office Supplies",
         "Appliances",
         "Acco Six-Outlet Power Strip, 4' Cord Length"
        ],
        [
         "23",
         "FUR-CH-10002774",
         "Furniture",
         "Chairs",
         "Global Deluxe Stacking Chair, Gray"
        ],
        [
         "25",
         "OFF-BI-10001634",
         "Office Supplies",
         "Binders",
         "Wilson Jones Active Use Binders"
        ],
        [
         "26",
         "TEC-AC-10003027",
         "Technology",
         "Accessories",
         "Imation 8GB Mini TravelDrive USB 2.0 Flash Drive"
        ],
        [
         "27",
         "FUR-BO-10004834",
         "Furniture",
         "Bookcases",
         "Riverside Palais Royal Lawyers Bookcase, Royale Cherry Finish"
        ],
        [
         "28",
         "OFF-BI-10000474",
         "Office Supplies",
         "Binders",
         "Avery Recycled Flexi-View Covers for Binding Systems"
        ],
        [
         "29",
         "FUR-FU-10004848",
         "Furniture",
         "Furnishings",
         "Howard Miller 13-3/4\" Diameter Brushed Chrome Round Wall Clock"
        ],
        [
         "30",
         "OFF-EN-10001509",
         "Office Supplies",
         "Envelopes",
         "Poly String Tie Envelopes"
        ],
        [
         "31",
         "OFF-AR-10004042",
         "Office Supplies",
         "Art",
         "BOSTON Model 1800 Electric Pencil Sharpeners, Putty/Woodgrain"
        ],
        [
         "32",
         "OFF-BI-10001525",
         "Office Supplies",
         "Binders",
         "Acco Pressboard Covers with Storage Hooks, 14 7/8\" x 11\", Executive Red"
        ],
        [
         "33",
         "OFF-AR-10001683",
         "Office Supplies",
         "Art",
         "Lumber Crayons"
        ],
        [
         "34",
         "OFF-PA-10000249",
         "Office Supplies",
         "Paper",
         "Easy-staple paper"
        ],
        [
         "35",
         "TEC-PH-10004977",
         "Technology",
         "Phones",
         "GE 30524EE4"
        ],
        [
         "36",
         "FUR-FU-10003664",
         "Furniture",
         "Furnishings",
         "Electrix Architect's Clamp-On Swing Arm Lamp, Black"
        ],
        [
         "37",
         "OFF-EN-10002986",
         "Office Supplies",
         "Envelopes",
         "#10-4 1/8\" x 9 1/2\" Premium Diagonal Seam Envelopes"
        ],
        [
         "38",
         "FUR-BO-10002545",
         "Furniture",
         "Bookcases",
         "Atlantic Metals Mobile 3-Shelf Bookcases, Custom Colors"
        ],
        [
         "39",
         "FUR-CH-10004218",
         "Furniture",
         "Chairs",
         "Global Fabric Manager's Chair, Dark Gray"
        ],
        [
         "40",
         "TEC-PH-10000486",
         "Technology",
         "Phones",
         "Plantronics HL10 Handset Lifter"
        ],
        [
         "41",
         "TEC-PH-10004093",
         "Technology",
         "Phones",
         "Panasonic Kx-TS550"
        ],
        [
         "42",
         "OFF-ST-10003479",
         "Office Supplies",
         "Storage",
         "Eldon Base for stackable storage shelf, platinum"
        ],
        [
         "43",
         "OFF-ST-10003282",
         "Office Supplies",
         "Storage",
         "Advantus 10-Drawer Portable Organizer, Chrome Metal Frame, Smoke Drawers"
        ],
        [
         "44",
         "TEC-AC-10000171",
         "Technology",
         "Accessories",
         "Verbatim 25 GB 6x Blu-ray Single Layer Recordable Disc, 25/Pack"
        ],
        [
         "45",
         "OFF-BI-10003291",
         "Office Supplies",
         "Binders",
         "Wilson Jones Leather-Like Binders with DublLock Round Rings"
        ],
        [
         "46",
         "OFF-ST-10001713",
         "Office Supplies",
         "Storage",
         "Gould Plastics 9-Pocket Panel Bin, 18-3/8w x 5-1/4d x 20-1/2h, Black"
        ],
        [
         "47",
         "TEC-AC-10002167",
         "Technology",
         "Accessories",
         "Imation 8gb Micro Traveldrive Usb 2.0 Flash Drive"
        ],
        [
         "48",
         "TEC-PH-10003988",
         "Technology",
         "Phones",
         "LF Elite 3D Dazzle Designer Hard Case Cover, Lf Stylus Pen and Wiper For Apple Iphone 5c Mini Lite"
        ],
        [
         "49",
         "OFF-BI-10004410",
         "Office Supplies",
         "Binders",
         "C-Line Peel & Stick Add-On Filing Pockets, 8-3/4 x 5-1/8, 10/Pack"
        ],
        [
         "50",
         "OFF-LA-10002762",
         "Office Supplies",
         "Labels",
         "Avery 485"
        ]
       ],
       "shape": {
        "columns": 4,
        "rows": 1894
       }
      },
      "text/html": [
       "<div>\n",
       "<style scoped>\n",
       "    .dataframe tbody tr th:only-of-type {\n",
       "        vertical-align: middle;\n",
       "    }\n",
       "\n",
       "    .dataframe tbody tr th {\n",
       "        vertical-align: top;\n",
       "    }\n",
       "\n",
       "    .dataframe thead th {\n",
       "        text-align: right;\n",
       "    }\n",
       "</style>\n",
       "<table border=\"1\" class=\"dataframe\">\n",
       "  <thead>\n",
       "    <tr style=\"text-align: right;\">\n",
       "      <th></th>\n",
       "      <th>Product ID</th>\n",
       "      <th>Category</th>\n",
       "      <th>Sub-Category</th>\n",
       "      <th>Product Name</th>\n",
       "    </tr>\n",
       "  </thead>\n",
       "  <tbody>\n",
       "    <tr>\n",
       "      <th>0</th>\n",
       "      <td>FUR-BO-10001798</td>\n",
       "      <td>Furniture</td>\n",
       "      <td>Bookcases</td>\n",
       "      <td>Bush Somerset Collection Bookcase</td>\n",
       "    </tr>\n",
       "    <tr>\n",
       "      <th>1</th>\n",
       "      <td>FUR-CH-10000454</td>\n",
       "      <td>Furniture</td>\n",
       "      <td>Chairs</td>\n",
       "      <td>Hon Deluxe Fabric Upholstered Stacking Chairs,...</td>\n",
       "    </tr>\n",
       "    <tr>\n",
       "      <th>2</th>\n",
       "      <td>OFF-LA-10000240</td>\n",
       "      <td>Office Supplies</td>\n",
       "      <td>Labels</td>\n",
       "      <td>Self-Adhesive Address Labels for Typewriters b...</td>\n",
       "    </tr>\n",
       "    <tr>\n",
       "      <th>3</th>\n",
       "      <td>FUR-TA-10000577</td>\n",
       "      <td>Furniture</td>\n",
       "      <td>Tables</td>\n",
       "      <td>Bretford CR4500 Series Slim Rectangular Table</td>\n",
       "    </tr>\n",
       "    <tr>\n",
       "      <th>4</th>\n",
       "      <td>OFF-ST-10000760</td>\n",
       "      <td>Office Supplies</td>\n",
       "      <td>Storage</td>\n",
       "      <td>Eldon Fold 'N Roll Cart System</td>\n",
       "    </tr>\n",
       "    <tr>\n",
       "      <th>...</th>\n",
       "      <td>...</td>\n",
       "      <td>...</td>\n",
       "      <td>...</td>\n",
       "      <td>...</td>\n",
       "    </tr>\n",
       "    <tr>\n",
       "      <th>9521</th>\n",
       "      <td>TEC-PH-10002817</td>\n",
       "      <td>Technology</td>\n",
       "      <td>Phones</td>\n",
       "      <td>RCA ViSYS 25425RE1 Corded phone</td>\n",
       "    </tr>\n",
       "    <tr>\n",
       "      <th>9562</th>\n",
       "      <td>TEC-MA-10003589</td>\n",
       "      <td>Technology</td>\n",
       "      <td>Machines</td>\n",
       "      <td>Cisco 8961 IP Phone Charcoal</td>\n",
       "    </tr>\n",
       "    <tr>\n",
       "      <th>9604</th>\n",
       "      <td>OFF-AP-10003099</td>\n",
       "      <td>Office Supplies</td>\n",
       "      <td>Appliances</td>\n",
       "      <td>Eureka Hand Vacuum, Bagless</td>\n",
       "    </tr>\n",
       "    <tr>\n",
       "      <th>9673</th>\n",
       "      <td>TEC-PH-10002645</td>\n",
       "      <td>Technology</td>\n",
       "      <td>Phones</td>\n",
       "      <td>LG G2</td>\n",
       "    </tr>\n",
       "    <tr>\n",
       "      <th>9935</th>\n",
       "      <td>OFF-ST-10001627</td>\n",
       "      <td>Office Supplies</td>\n",
       "      <td>Storage</td>\n",
       "      <td>Eldon Jumbo ProFile Portable File Boxes Graphi...</td>\n",
       "    </tr>\n",
       "  </tbody>\n",
       "</table>\n",
       "<p>1894 rows × 4 columns</p>\n",
       "</div>"
      ],
      "text/plain": [
       "           Product ID         Category Sub-Category  \\\n",
       "0     FUR-BO-10001798        Furniture    Bookcases   \n",
       "1     FUR-CH-10000454        Furniture       Chairs   \n",
       "2     OFF-LA-10000240  Office Supplies       Labels   \n",
       "3     FUR-TA-10000577        Furniture       Tables   \n",
       "4     OFF-ST-10000760  Office Supplies      Storage   \n",
       "...               ...              ...          ...   \n",
       "9521  TEC-PH-10002817       Technology       Phones   \n",
       "9562  TEC-MA-10003589       Technology     Machines   \n",
       "9604  OFF-AP-10003099  Office Supplies   Appliances   \n",
       "9673  TEC-PH-10002645       Technology       Phones   \n",
       "9935  OFF-ST-10001627  Office Supplies      Storage   \n",
       "\n",
       "                                           Product Name  \n",
       "0                     Bush Somerset Collection Bookcase  \n",
       "1     Hon Deluxe Fabric Upholstered Stacking Chairs,...  \n",
       "2     Self-Adhesive Address Labels for Typewriters b...  \n",
       "3         Bretford CR4500 Series Slim Rectangular Table  \n",
       "4                        Eldon Fold 'N Roll Cart System  \n",
       "...                                                 ...  \n",
       "9521                    RCA ViSYS 25425RE1 Corded phone  \n",
       "9562                       Cisco 8961 IP Phone Charcoal  \n",
       "9604                        Eureka Hand Vacuum, Bagless  \n",
       "9673                                              LG G2  \n",
       "9935  Eldon Jumbo ProFile Portable File Boxes Graphi...  \n",
       "\n",
       "[1894 rows x 4 columns]"
      ]
     },
     "metadata": {},
     "output_type": "display_data"
    },
    {
     "name": "stdout",
     "output_type": "stream",
     "text": [
      "<class 'pandas.core.frame.DataFrame'>\n",
      "Index: 1894 entries, 0 to 9935\n",
      "Data columns (total 4 columns):\n",
      " #   Column        Non-Null Count  Dtype \n",
      "---  ------        --------------  ----- \n",
      " 0   Product ID    1894 non-null   object\n",
      " 1   Category      1894 non-null   object\n",
      " 2   Sub-Category  1894 non-null   object\n",
      " 3   Product Name  1894 non-null   object\n",
      "dtypes: object(4)\n",
      "memory usage: 74.0+ KB\n"
     ]
    },
    {
     "data": {
      "text/plain": [
       "None"
      ]
     },
     "metadata": {},
     "output_type": "display_data"
    }
   ],
   "source": [
    "# Question - Are Product Ids duplicated accross products\n",
    "df_products = df_source[['Product ID', 'Category', 'Sub-Category','Product Name']]\n",
    "df_products = df_products.drop_duplicates(keep='first')\n",
    "display(df_products)\n",
    "display(df_products.info())"
   ]
  },
  {
   "cell_type": "code",
   "execution_count": 142,
   "id": "5d4f05ed",
   "metadata": {},
   "outputs": [
    {
     "data": {
      "text/plain": [
       "False"
      ]
     },
     "execution_count": 142,
     "metadata": {},
     "output_type": "execute_result"
    }
   ],
   "source": [
    "# Now let's see if Order ID is repeated. If so that means an order can be sent to more than one address\n",
    "df_products['Product ID'].is_unique"
   ]
  },
  {
   "cell_type": "code",
   "execution_count": 124,
   "id": "4ded0a63",
   "metadata": {},
   "outputs": [
    {
     "data": {
      "application/vnd.microsoft.datawrangler.viewer.v0+json": {
       "columns": [
        {
         "name": "index",
         "rawType": "int64",
         "type": "integer"
        },
        {
         "name": "Product ID",
         "rawType": "object",
         "type": "string"
        },
        {
         "name": "Category",
         "rawType": "object",
         "type": "string"
        },
        {
         "name": "Sub-Category",
         "rawType": "object",
         "type": "string"
        },
        {
         "name": "Product Name",
         "rawType": "object",
         "type": "string"
        },
        {
         "name": "appender",
         "rawType": "int64",
         "type": "integer"
        }
       ],
       "ref": "18d6cbdf-6ac7-4e72-a7d8-5aa4207b88bd",
       "rows": [
        [
         "2471",
         "FUR-BO-10002213",
         "Furniture",
         "Bookcases",
         "Sauder Forest Hills Library, Woodland Oak Finish",
         "0"
        ],
        [
         "2115",
         "FUR-BO-10002213",
         "Furniture",
         "Bookcases",
         "DMI Eclipse Executive Suite Bookcases",
         "1"
        ],
        [
         "66",
         "FUR-CH-10001146",
         "Furniture",
         "Chairs",
         "Global Value Mid-Back Manager's Chair, Gray",
         "2"
        ],
        [
         "128",
         "FUR-CH-10001146",
         "Furniture",
         "Chairs",
         "Global Task Chair, Black",
         "3"
        ],
        [
         "1459",
         "FUR-FU-10001473",
         "Furniture",
         "Furnishings",
         "DAX Wood Document Frame",
         "4"
        ],
        [
         "2204",
         "FUR-FU-10001473",
         "Furniture",
         "Furnishings",
         "Eldon Executive Woodline II Desk Accessories, Mahogany",
         "5"
        ],
        [
         "3831",
         "FUR-FU-10004017",
         "Furniture",
         "Furnishings",
         "Executive Impressions 13\" Chairman Wall Clock",
         "6"
        ],
        [
         "234",
         "FUR-FU-10004017",
         "Furniture",
         "Furnishings",
         "Tenex Contemporary Contur Chairmats for Low and Medium Pile Carpet, Computer, 39\" x 49\"",
         "7"
        ],
        [
         "1385",
         "FUR-FU-10004091",
         "Furniture",
         "Furnishings",
         "Eldon 200 Class Desk Accessories, Black",
         "8"
        ],
        [
         "293",
         "FUR-FU-10004091",
         "Furniture",
         "Furnishings",
         "Howard Miller 13\" Diameter Goldtone Round Wall Clock",
         "9"
        ],
        [
         "1473",
         "FUR-FU-10004270",
         "Furniture",
         "Furnishings",
         "Eldon Image Series Desk Accessories, Burgundy",
         "10"
        ],
        [
         "2645",
         "FUR-FU-10004270",
         "Furniture",
         "Furnishings",
         "Executive Impressions 13\" Clairmont Wall Clock",
         "11"
        ],
        [
         "29",
         "FUR-FU-10004848",
         "Furniture",
         "Furnishings",
         "Howard Miller 13-3/4\" Diameter Brushed Chrome Round Wall Clock",
         "12"
        ],
        [
         "2381",
         "FUR-FU-10004848",
         "Furniture",
         "Furnishings",
         "DAX Solid Wood Frames",
         "13"
        ],
        [
         "497",
         "FUR-FU-10004864",
         "Furniture",
         "Furnishings",
         "Howard Miller 14-1/2\" Diameter Chrome Round Wall Clock",
         "14"
        ],
        [
         "5317",
         "FUR-FU-10004864",
         "Furniture",
         "Furnishings",
         "Eldon 500 Class Desk Accessories",
         "15"
        ],
        [
         "1159",
         "OFF-AP-10000576",
         "Office Supplies",
         "Appliances",
         "Belkin 325VA UPS Surge Protector, 6'",
         "16"
        ],
        [
         "802",
         "OFF-AP-10000576",
         "Office Supplies",
         "Appliances",
         "Belkin 7 Outlet SurgeMaster II",
         "17"
        ],
        [
         "3582",
         "OFF-AR-10001149",
         "Office Supplies",
         "Art",
         "Avery Hi-Liter Comfort Grip Fluorescent Highlighter, Yellow Ink",
         "18"
        ],
        [
         "135",
         "OFF-AR-10001149",
         "Office Supplies",
         "Art",
         "Sanford Colorific Colored Pencils, 12/Box",
         "19"
        ],
        [
         "1282",
         "OFF-BI-10002026",
         "Office Supplies",
         "Binders",
         "Avery Arch Ring Binders",
         "20"
        ],
        [
         "5951",
         "OFF-BI-10002026",
         "Office Supplies",
         "Binders",
         "Ibico Recycled Linen-Style Covers",
         "21"
        ],
        [
         "1297",
         "OFF-BI-10004632",
         "Office Supplies",
         "Binders",
         "GBC Binding covers",
         "22"
        ],
        [
         "679",
         "OFF-BI-10004632",
         "Office Supplies",
         "Binders",
         "Ibico Hi-Tech Manual Binding System",
         "23"
        ],
        [
         "70",
         "OFF-BI-10004654",
         "Office Supplies",
         "Binders",
         "Avery Binding System Hidden Tab Executive Style Index Sets",
         "24"
        ],
        [
         "2994",
         "OFF-BI-10004654",
         "Office Supplies",
         "Binders",
         "VariCap6 Expandable Binder",
         "25"
        ],
        [
         "2103",
         "OFF-PA-10000357",
         "Office Supplies",
         "Paper",
         "Xerox 1888",
         "26"
        ],
        [
         "504",
         "OFF-PA-10000357",
         "Office Supplies",
         "Paper",
         "White Dual Perf Computer Printout Paper, 2700 Sheets, 1 Part, Heavyweight, 20 lbs., 14 7/8 x 11",
         "27"
        ],
        [
         "2062",
         "OFF-PA-10000477",
         "Office Supplies",
         "Paper",
         "Xerox 1952",
         "28"
        ],
        [
         "2251",
         "OFF-PA-10000477",
         "Office Supplies",
         "Paper",
         "Xerox 22",
         "29"
        ],
        [
         "2345",
         "OFF-PA-10000659",
         "Office Supplies",
         "Paper",
         "TOPS Carbonless Receipt Book, Four 2-3/4 x 7-1/4 Money Receipts per Page",
         "30"
        ],
        [
         "171",
         "OFF-PA-10000659",
         "Office Supplies",
         "Paper",
         "Adams Phone Message Book, Professional, 400 Message Capacity, 5 3/6” x 11”",
         "31"
        ],
        [
         "4791",
         "OFF-PA-10001166",
         "Office Supplies",
         "Paper",
         "Xerox 1932",
         "32"
        ],
        [
         "1025",
         "OFF-PA-10001166",
         "Office Supplies",
         "Paper",
         "Xerox 2",
         "33"
        ],
        [
         "350",
         "OFF-PA-10001970",
         "Office Supplies",
         "Paper",
         "Xerox 1881",
         "34"
        ],
        [
         "411",
         "OFF-PA-10001970",
         "Office Supplies",
         "Paper",
         "Xerox 1908",
         "35"
        ],
        [
         "932",
         "OFF-PA-10002195",
         "Office Supplies",
         "Paper",
         "RSVP Cards & Envelopes, Blank White, 8-1/2\" X 11\", 24 Cards/25 Envelopes/Set",
         "36"
        ],
        [
         "3646",
         "OFF-PA-10002195",
         "Office Supplies",
         "Paper",
         "Xerox 1966",
         "37"
        ],
        [
         "131",
         "OFF-PA-10002377",
         "Office Supplies",
         "Paper",
         "Xerox 1916",
         "38"
        ],
        [
         "671",
         "OFF-PA-10002377",
         "Office Supplies",
         "Paper",
         "Adams Telephone Message Book W/Dividers/Space For Phone Numbers, 5 1/4\"X8 1/2\", 200/Messages",
         "39"
        ],
        [
         "5407",
         "OFF-PA-10003022",
         "Office Supplies",
         "Paper",
         "Standard Line “While You Were Out” Hardbound Telephone Message Book",
         "40"
        ],
        [
         "4463",
         "OFF-PA-10003022",
         "Office Supplies",
         "Paper",
         "Xerox 1992",
         "41"
        ],
        [
         "508",
         "OFF-ST-10001228",
         "Office Supplies",
         "Storage",
         "Personal File Boxes with Fold-Down Carry Handle",
         "42"
        ],
        [
         "252",
         "OFF-ST-10001228",
         "Office Supplies",
         "Storage",
         "Fellowes Personal Hanging Folder Files, Navy",
         "43"
        ],
        [
         "1496",
         "OFF-ST-10004950",
         "Office Supplies",
         "Storage",
         "Acco Perma 3000 Stacking Storage Drawers",
         "44"
        ],
        [
         "3377",
         "OFF-ST-10004950",
         "Office Supplies",
         "Storage",
         "Tenex Personal Filing Tote With Secure Closure Lid, Black/Frost",
         "45"
        ],
        [
         "1625",
         "TEC-AC-10002049",
         "Technology",
         "Accessories",
         "Plantronics Savi W720 Multi-Device Wireless Headset System",
         "46"
        ],
        [
         "877",
         "TEC-AC-10002049",
         "Technology",
         "Accessories",
         "Logitech G19 Programmable Gaming Keyboard",
         "47"
        ],
        [
         "3640",
         "TEC-AC-10002550",
         "Technology",
         "Accessories",
         "Memorex 25GB 6X Branded Blu-Ray Recordable Disc, 30/Pack",
         "48"
        ],
        [
         "2525",
         "TEC-AC-10002550",
         "Technology",
         "Accessories",
         "Maxell 4.7GB DVD-RW 3/Pack",
         "49"
        ]
       ],
       "shape": {
        "columns": 5,
        "rows": 64
       }
      },
      "text/html": [
       "<div>\n",
       "<style scoped>\n",
       "    .dataframe tbody tr th:only-of-type {\n",
       "        vertical-align: middle;\n",
       "    }\n",
       "\n",
       "    .dataframe tbody tr th {\n",
       "        vertical-align: top;\n",
       "    }\n",
       "\n",
       "    .dataframe thead th {\n",
       "        text-align: right;\n",
       "    }\n",
       "</style>\n",
       "<table border=\"1\" class=\"dataframe\">\n",
       "  <thead>\n",
       "    <tr style=\"text-align: right;\">\n",
       "      <th></th>\n",
       "      <th>Product ID</th>\n",
       "      <th>Category</th>\n",
       "      <th>Sub-Category</th>\n",
       "      <th>Product Name</th>\n",
       "      <th>appender</th>\n",
       "    </tr>\n",
       "  </thead>\n",
       "  <tbody>\n",
       "    <tr>\n",
       "      <th>2471</th>\n",
       "      <td>FUR-BO-10002213</td>\n",
       "      <td>Furniture</td>\n",
       "      <td>Bookcases</td>\n",
       "      <td>Sauder Forest Hills Library, Woodland Oak Finish</td>\n",
       "      <td>0</td>\n",
       "    </tr>\n",
       "    <tr>\n",
       "      <th>2115</th>\n",
       "      <td>FUR-BO-10002213</td>\n",
       "      <td>Furniture</td>\n",
       "      <td>Bookcases</td>\n",
       "      <td>DMI Eclipse Executive Suite Bookcases</td>\n",
       "      <td>1</td>\n",
       "    </tr>\n",
       "    <tr>\n",
       "      <th>66</th>\n",
       "      <td>FUR-CH-10001146</td>\n",
       "      <td>Furniture</td>\n",
       "      <td>Chairs</td>\n",
       "      <td>Global Value Mid-Back Manager's Chair, Gray</td>\n",
       "      <td>2</td>\n",
       "    </tr>\n",
       "    <tr>\n",
       "      <th>128</th>\n",
       "      <td>FUR-CH-10001146</td>\n",
       "      <td>Furniture</td>\n",
       "      <td>Chairs</td>\n",
       "      <td>Global Task Chair, Black</td>\n",
       "      <td>3</td>\n",
       "    </tr>\n",
       "    <tr>\n",
       "      <th>1459</th>\n",
       "      <td>FUR-FU-10001473</td>\n",
       "      <td>Furniture</td>\n",
       "      <td>Furnishings</td>\n",
       "      <td>DAX Wood Document Frame</td>\n",
       "      <td>4</td>\n",
       "    </tr>\n",
       "    <tr>\n",
       "      <th>...</th>\n",
       "      <td>...</td>\n",
       "      <td>...</td>\n",
       "      <td>...</td>\n",
       "      <td>...</td>\n",
       "      <td>...</td>\n",
       "    </tr>\n",
       "    <tr>\n",
       "      <th>1219</th>\n",
       "      <td>TEC-PH-10002200</td>\n",
       "      <td>Technology</td>\n",
       "      <td>Phones</td>\n",
       "      <td>Samsung Galaxy Note 2</td>\n",
       "      <td>59</td>\n",
       "    </tr>\n",
       "    <tr>\n",
       "      <th>2596</th>\n",
       "      <td>TEC-PH-10002310</td>\n",
       "      <td>Technology</td>\n",
       "      <td>Phones</td>\n",
       "      <td>Plantronics Calisto P620-M USB Wireless Speake...</td>\n",
       "      <td>60</td>\n",
       "    </tr>\n",
       "    <tr>\n",
       "      <th>1378</th>\n",
       "      <td>TEC-PH-10002310</td>\n",
       "      <td>Technology</td>\n",
       "      <td>Phones</td>\n",
       "      <td>Panasonic KX T7731-B Digital phone</td>\n",
       "      <td>61</td>\n",
       "    </tr>\n",
       "    <tr>\n",
       "      <th>922</th>\n",
       "      <td>TEC-PH-10004531</td>\n",
       "      <td>Technology</td>\n",
       "      <td>Phones</td>\n",
       "      <td>OtterBox Commuter Series Case - iPhone 5 &amp; 5s</td>\n",
       "      <td>62</td>\n",
       "    </tr>\n",
       "    <tr>\n",
       "      <th>2713</th>\n",
       "      <td>TEC-PH-10004531</td>\n",
       "      <td>Technology</td>\n",
       "      <td>Phones</td>\n",
       "      <td>AT&amp;T CL2909</td>\n",
       "      <td>63</td>\n",
       "    </tr>\n",
       "  </tbody>\n",
       "</table>\n",
       "<p>64 rows × 5 columns</p>\n",
       "</div>"
      ],
      "text/plain": [
       "           Product ID    Category Sub-Category  \\\n",
       "2471  FUR-BO-10002213   Furniture    Bookcases   \n",
       "2115  FUR-BO-10002213   Furniture    Bookcases   \n",
       "66    FUR-CH-10001146   Furniture       Chairs   \n",
       "128   FUR-CH-10001146   Furniture       Chairs   \n",
       "1459  FUR-FU-10001473   Furniture  Furnishings   \n",
       "...               ...         ...          ...   \n",
       "1219  TEC-PH-10002200  Technology       Phones   \n",
       "2596  TEC-PH-10002310  Technology       Phones   \n",
       "1378  TEC-PH-10002310  Technology       Phones   \n",
       "922   TEC-PH-10004531  Technology       Phones   \n",
       "2713  TEC-PH-10004531  Technology       Phones   \n",
       "\n",
       "                                           Product Name  appender  \n",
       "2471   Sauder Forest Hills Library, Woodland Oak Finish         0  \n",
       "2115              DMI Eclipse Executive Suite Bookcases         1  \n",
       "66          Global Value Mid-Back Manager's Chair, Gray         2  \n",
       "128                            Global Task Chair, Black         3  \n",
       "1459                            DAX Wood Document Frame         4  \n",
       "...                                                 ...       ...  \n",
       "1219                              Samsung Galaxy Note 2        59  \n",
       "2596  Plantronics Calisto P620-M USB Wireless Speake...        60  \n",
       "1378                 Panasonic KX T7731-B Digital phone        61  \n",
       "922       OtterBox Commuter Series Case - iPhone 5 & 5s        62  \n",
       "2713                                        AT&T CL2909        63  \n",
       "\n",
       "[64 rows x 5 columns]"
      ]
     },
     "execution_count": 124,
     "metadata": {},
     "output_type": "execute_result"
    }
   ],
   "source": [
    "# We know we have duplicates for some Product IDs, find them\n",
    "df_product_dups = df_products[df_products.duplicated('Product ID', keep=False)].sort_values('Product ID')\n",
    "df_product_dups[\"appender\"] = range(len(df_product_dups))\n",
    "df_product_dups\n",
    "# Answer - Product ID Does not see to be unique as an identifier for product columns\n",
    "# So this data should be cleaned up"
   ]
  },
  {
   "cell_type": "code",
   "execution_count": 143,
   "id": "77a5d68b",
   "metadata": {},
   "outputs": [],
   "source": [
    "# clean - append ROW ID to records that have a Duplicate Product ID\n",
    "# A duplicate Product ID, is when the ID is used in records with different Category, Sub-Category, Product Name\n",
    "\n",
    "# Which records need to be updated?\n",
    "# What to Update the record with?\n",
    "for index, dup_row in df_product_dups.iterrows():\n",
    "\n",
    "    # Get the matching row in the dups table\n",
    "    pid = dup_row[\"Product ID\"]\n",
    "    cat = dup_row[\"Category\"]\n",
    "    sc = dup_row[\"Sub-Category\"]\n",
    "    pn = dup_row[\"Product Name\"]\n",
    "\n",
    "    # Update all the rows in original DF that match the duplicate criteria\n",
    "    df_source.loc[ \n",
    "        (df_source[\"Product ID\"]== pid) & \n",
    "        (df_source[\"Category\"]== cat) & \n",
    "        (df_source[\"Sub-Category\"]== sc) & \n",
    "        (df_source[\"Product Name\"]== pn)\n",
    "        ,\"Product ID\"] = pid + \"-\" + str(dup_row[\"appender\"])"
   ]
  },
  {
   "cell_type": "code",
   "execution_count": 144,
   "id": "ac93b316",
   "metadata": {},
   "outputs": [
    {
     "data": {
      "application/vnd.microsoft.datawrangler.viewer.v0+json": {
       "columns": [
        {
         "name": "index",
         "rawType": "int64",
         "type": "integer"
        },
        {
         "name": "Product ID",
         "rawType": "object",
         "type": "string"
        }
       ],
       "ref": "ea257605-9bb9-4c0f-a040-d1632df6916e",
       "rows": [
        [
         "2471",
         "FUR-BO-10002213-0"
        ],
        [
         "2115",
         "FUR-BO-10002213-1"
        ],
        [
         "66",
         "FUR-CH-10001146-2"
        ],
        [
         "128",
         "FUR-CH-10001146-3"
        ],
        [
         "1459",
         "FUR-FU-10001473-4"
        ],
        [
         "2204",
         "FUR-FU-10001473-5"
        ],
        [
         "3831",
         "FUR-FU-10004017-6"
        ],
        [
         "234",
         "FUR-FU-10004017-7"
        ],
        [
         "1385",
         "FUR-FU-10004091-8"
        ],
        [
         "293",
         "FUR-FU-10004091-9"
        ],
        [
         "1473",
         "FUR-FU-10004270-10"
        ],
        [
         "2645",
         "FUR-FU-10004270-11"
        ],
        [
         "29",
         "FUR-FU-10004848-12"
        ],
        [
         "2381",
         "FUR-FU-10004848-13"
        ],
        [
         "497",
         "FUR-FU-10004864-14"
        ],
        [
         "5317",
         "FUR-FU-10004864-15"
        ],
        [
         "1159",
         "OFF-AP-10000576-16"
        ],
        [
         "802",
         "OFF-AP-10000576-17"
        ],
        [
         "3582",
         "OFF-AR-10001149-18"
        ],
        [
         "135",
         "OFF-AR-10001149-19"
        ],
        [
         "1282",
         "OFF-BI-10002026-20"
        ],
        [
         "5951",
         "OFF-BI-10002026-21"
        ],
        [
         "1297",
         "OFF-BI-10004632-22"
        ],
        [
         "679",
         "OFF-BI-10004632-23"
        ],
        [
         "70",
         "OFF-BI-10004654-24"
        ],
        [
         "2994",
         "OFF-BI-10004654-25"
        ],
        [
         "2103",
         "OFF-PA-10000357-26"
        ],
        [
         "504",
         "OFF-PA-10000357-27"
        ],
        [
         "2062",
         "OFF-PA-10000477-28"
        ],
        [
         "2251",
         "OFF-PA-10000477-29"
        ],
        [
         "2345",
         "OFF-PA-10000659-30"
        ],
        [
         "171",
         "OFF-PA-10000659-31"
        ],
        [
         "4791",
         "OFF-PA-10001166-32"
        ],
        [
         "1025",
         "OFF-PA-10001166-33"
        ],
        [
         "350",
         "OFF-PA-10001970-34"
        ],
        [
         "411",
         "OFF-PA-10001970-35"
        ],
        [
         "932",
         "OFF-PA-10002195-36"
        ],
        [
         "3646",
         "OFF-PA-10002195-37"
        ],
        [
         "131",
         "OFF-PA-10002377-38"
        ],
        [
         "671",
         "OFF-PA-10002377-39"
        ],
        [
         "5407",
         "OFF-PA-10003022-40"
        ],
        [
         "4463",
         "OFF-PA-10003022-41"
        ],
        [
         "508",
         "OFF-ST-10001228-42"
        ],
        [
         "252",
         "OFF-ST-10001228-43"
        ],
        [
         "1496",
         "OFF-ST-10004950-44"
        ],
        [
         "3377",
         "OFF-ST-10004950-45"
        ],
        [
         "1625",
         "TEC-AC-10002049-46"
        ],
        [
         "877",
         "TEC-AC-10002049-47"
        ],
        [
         "3640",
         "TEC-AC-10002550-48"
        ],
        [
         "2525",
         "TEC-AC-10002550-49"
        ]
       ],
       "shape": {
        "columns": 1,
        "rows": 64
       }
      },
      "text/plain": [
       "2471     FUR-BO-10002213-0\n",
       "2115     FUR-BO-10002213-1\n",
       "66       FUR-CH-10001146-2\n",
       "128      FUR-CH-10001146-3\n",
       "1459     FUR-FU-10001473-4\n",
       "               ...        \n",
       "1219    TEC-PH-10002200-59\n",
       "2596    TEC-PH-10002310-60\n",
       "1378    TEC-PH-10002310-61\n",
       "922     TEC-PH-10004531-62\n",
       "2713    TEC-PH-10004531-63\n",
       "Name: Product ID, Length: 64, dtype: object"
      ]
     },
     "execution_count": 144,
     "metadata": {},
     "output_type": "execute_result"
    }
   ],
   "source": [
    "\n",
    "# Verify the desired records were updated\n",
    "df_source.loc[df_product_dups.index][\"Product ID\"].sort_values()"
   ]
  },
  {
   "cell_type": "code",
   "execution_count": 145,
   "id": "312fa34c",
   "metadata": {},
   "outputs": [
    {
     "data": {
      "application/vnd.microsoft.datawrangler.viewer.v0+json": {
       "columns": [
        {
         "name": "index",
         "rawType": "int64",
         "type": "integer"
        },
        {
         "name": "Product ID",
         "rawType": "object",
         "type": "string"
        }
       ],
       "ref": "dd23693f-624e-489f-b5ff-8e7029c31b03",
       "rows": [
        [
         "0",
         "FUR-BO-10001798"
        ],
        [
         "1",
         "FUR-CH-10000454"
        ],
        [
         "2",
         "OFF-LA-10000240"
        ],
        [
         "3",
         "FUR-TA-10000577"
        ],
        [
         "4",
         "OFF-ST-10000760"
        ],
        [
         "5",
         "FUR-FU-10001487"
        ],
        [
         "6",
         "OFF-AR-10002833"
        ],
        [
         "7",
         "TEC-PH-10002275"
        ],
        [
         "8",
         "OFF-BI-10003910"
        ],
        [
         "9",
         "OFF-AP-10002892"
        ],
        [
         "10",
         "FUR-TA-10001539"
        ],
        [
         "11",
         "TEC-PH-10002033"
        ],
        [
         "12",
         "OFF-PA-10002365"
        ],
        [
         "13",
         "OFF-BI-10003656"
        ],
        [
         "14",
         "OFF-AP-10002311"
        ],
        [
         "15",
         "OFF-BI-10000756"
        ],
        [
         "16",
         "OFF-ST-10004186"
        ],
        [
         "17",
         "OFF-ST-10000107"
        ],
        [
         "18",
         "OFF-AR-10003056"
        ],
        [
         "19",
         "TEC-PH-10001949"
        ],
        [
         "20",
         "OFF-BI-10002215"
        ],
        [
         "21",
         "OFF-AR-10000246"
        ],
        [
         "22",
         "OFF-AP-10001492"
        ],
        [
         "23",
         "FUR-CH-10002774"
        ],
        [
         "24",
         "FUR-TA-10000577"
        ],
        [
         "25",
         "OFF-BI-10001634"
        ],
        [
         "26",
         "TEC-AC-10003027"
        ],
        [
         "27",
         "FUR-BO-10004834"
        ],
        [
         "28",
         "OFF-BI-10000474"
        ],
        [
         "29",
         "FUR-FU-10004848-12"
        ],
        [
         "30",
         "OFF-EN-10001509"
        ],
        [
         "31",
         "OFF-AR-10004042"
        ],
        [
         "32",
         "OFF-BI-10001525"
        ],
        [
         "33",
         "OFF-AR-10001683"
        ],
        [
         "34",
         "OFF-PA-10000249"
        ],
        [
         "35",
         "TEC-PH-10004977"
        ],
        [
         "36",
         "FUR-FU-10003664"
        ],
        [
         "37",
         "OFF-EN-10002986"
        ],
        [
         "38",
         "FUR-BO-10002545"
        ],
        [
         "39",
         "FUR-CH-10004218"
        ],
        [
         "40",
         "TEC-PH-10000486"
        ],
        [
         "41",
         "TEC-PH-10004093"
        ],
        [
         "42",
         "OFF-ST-10003479"
        ],
        [
         "43",
         "OFF-ST-10003282"
        ],
        [
         "44",
         "TEC-AC-10000171"
        ],
        [
         "45",
         "OFF-BI-10003291"
        ],
        [
         "46",
         "OFF-ST-10001713"
        ],
        [
         "47",
         "TEC-AC-10002167"
        ],
        [
         "48",
         "TEC-PH-10003988"
        ],
        [
         "49",
         "OFF-BI-10004410"
        ]
       ],
       "shape": {
        "columns": 1,
        "rows": 9994
       }
      },
      "text/plain": [
       "0       FUR-BO-10001798\n",
       "1       FUR-CH-10000454\n",
       "2       OFF-LA-10000240\n",
       "3       FUR-TA-10000577\n",
       "4       OFF-ST-10000760\n",
       "             ...       \n",
       "9989    FUR-FU-10001889\n",
       "9990    FUR-FU-10000747\n",
       "9991    TEC-PH-10003645\n",
       "9992    OFF-PA-10004041\n",
       "9993    OFF-AP-10002684\n",
       "Name: Product ID, Length: 9994, dtype: object"
      ]
     },
     "execution_count": 145,
     "metadata": {},
     "output_type": "execute_result"
    }
   ],
   "source": [
    "# Verify that not all records were updated.\n",
    "df_source[\"Product ID\"]"
   ]
  },
  {
   "cell_type": "code",
   "execution_count": 146,
   "id": "9e6a55d4",
   "metadata": {},
   "outputs": [],
   "source": [
    "# Save the clean dataframe\n",
    "import shutil\n",
    "\n",
    "# Make a copy to preserve the original file, just in case\n",
    "shutil.copy(SOURCE_DATA_FILE, SOURCE_DATA_FILE.replace('.csv', '-original.csv'))\n",
    "\n",
    "# Save to CSV without index\n",
    "df_source.to_csv(SOURCE_DATA_FILE, index=False)"
   ]
  },
  {
   "cell_type": "code",
   "execution_count": 147,
   "id": "e99acb67",
   "metadata": {},
   "outputs": [
    {
     "data": {
      "application/vnd.microsoft.datawrangler.viewer.v0+json": {
       "columns": [
        {
         "name": "index",
         "rawType": "int64",
         "type": "integer"
        },
        {
         "name": "Row ID",
         "rawType": "int64",
         "type": "integer"
        },
        {
         "name": "Order ID",
         "rawType": "object",
         "type": "string"
        },
        {
         "name": "Order Date",
         "rawType": "object",
         "type": "string"
        },
        {
         "name": "Ship Date",
         "rawType": "object",
         "type": "string"
        },
        {
         "name": "Ship Mode",
         "rawType": "object",
         "type": "string"
        },
        {
         "name": "Customer ID",
         "rawType": "object",
         "type": "string"
        },
        {
         "name": "Customer Name",
         "rawType": "object",
         "type": "string"
        },
        {
         "name": "Segment",
         "rawType": "object",
         "type": "string"
        },
        {
         "name": "Country",
         "rawType": "object",
         "type": "string"
        },
        {
         "name": "City",
         "rawType": "object",
         "type": "string"
        },
        {
         "name": "State",
         "rawType": "object",
         "type": "string"
        },
        {
         "name": "Postal Code",
         "rawType": "int64",
         "type": "integer"
        },
        {
         "name": "Region",
         "rawType": "object",
         "type": "string"
        },
        {
         "name": "Product ID",
         "rawType": "object",
         "type": "string"
        },
        {
         "name": "Category",
         "rawType": "object",
         "type": "string"
        },
        {
         "name": "Sub-Category",
         "rawType": "object",
         "type": "string"
        },
        {
         "name": "Product Name",
         "rawType": "object",
         "type": "string"
        },
        {
         "name": "Sales",
         "rawType": "float64",
         "type": "float"
        },
        {
         "name": "Quantity",
         "rawType": "int64",
         "type": "integer"
        },
        {
         "name": "Discount",
         "rawType": "float64",
         "type": "float"
        },
        {
         "name": "Profit",
         "rawType": "float64",
         "type": "float"
        }
       ],
       "ref": "a9d07418-dbf2-45f8-8fe1-195670a63080",
       "rows": [
        [
         "350",
         "351",
         "CA-2016-129714",
         "9/1/2016",
         "9/3/2016",
         "First Class",
         "AB-10060",
         "Adam Bellavance",
         "Home Office",
         "United States",
         "New York City",
         "New York",
         "10009",
         "East",
         "OFF-PA-10001970-34",
         "Office Supplies",
         "Paper",
         "Xerox 1881",
         "24.56",
         "2",
         "0.0",
         "11.5432"
        ],
        [
         "352",
         "353",
         "CA-2016-129714",
         "9/1/2016",
         "9/3/2016",
         "First Class",
         "AB-10060",
         "Adam Bellavance",
         "Home Office",
         "United States",
         "New York City",
         "New York",
         "10009",
         "East",
         "OFF-PA-10001970-34",
         "Office Supplies",
         "Paper",
         "Xerox 1881",
         "49.12",
         "4",
         "0.0",
         "23.0864"
        ],
        [
         "411",
         "412",
         "CA-2017-117457",
         "12/8/2017",
         "12/12/2017",
         "Standard Class",
         "KH-16510",
         "Keith Herrera",
         "Consumer",
         "United States",
         "San Francisco",
         "California",
         "94110",
         "West",
         "OFF-PA-10001970-35",
         "Office Supplies",
         "Paper",
         "Xerox 1908",
         "55.98",
         "1",
         "0.0",
         "27.4302"
        ],
        [
         "437",
         "438",
         "CA-2016-147375",
         "6/12/2016",
         "6/14/2016",
         "Second Class",
         "PO-19180",
         "Philisse Overcash",
         "Home Office",
         "United States",
         "Chicago",
         "Illinois",
         "60623",
         "Central",
         "OFF-PA-10001970-35",
         "Office Supplies",
         "Paper",
         "Xerox 1908",
         "313.488",
         "7",
         "0.2",
         "113.6394"
        ],
        [
         "1071",
         "1072",
         "CA-2016-152814",
         "4/28/2016",
         "5/2/2016",
         "Standard Class",
         "EH-14005",
         "Erica Hernandez",
         "Home Office",
         "United States",
         "Denver",
         "Colorado",
         "80219",
         "West",
         "OFF-PA-10001970-34",
         "Office Supplies",
         "Paper",
         "Xerox 1881",
         "29.472",
         "3",
         "0.2",
         "9.9468"
        ],
        [
         "1117",
         "1118",
         "CA-2015-142755",
         "9/4/2015",
         "9/8/2015",
         "Standard Class",
         "CS-12355",
         "Christine Sundaresam",
         "Consumer",
         "United States",
         "Roswell",
         "Georgia",
         "30076",
         "South",
         "OFF-PA-10001970-35",
         "Office Supplies",
         "Paper",
         "Xerox 1908",
         "279.9",
         "5",
         "0.0",
         "137.151"
        ],
        [
         "1191",
         "1192",
         "CA-2017-117212",
         "2/26/2017",
         "2/28/2017",
         "Second Class",
         "BT-11530",
         "Bradley Talbott",
         "Home Office",
         "United States",
         "Los Angeles",
         "California",
         "90036",
         "West",
         "OFF-PA-10001970-35",
         "Office Supplies",
         "Paper",
         "Xerox 1908",
         "223.92",
         "4",
         "0.0",
         "109.7208"
        ],
        [
         "3663",
         "3664",
         "US-2017-129777",
         "7/3/2017",
         "7/9/2017",
         "Standard Class",
         "FM-14290",
         "Frank Merwin",
         "Home Office",
         "United States",
         "Quincy",
         "Massachusetts",
         "2169",
         "East",
         "OFF-PA-10001970-34",
         "Office Supplies",
         "Paper",
         "Xerox 1881",
         "24.56",
         "2",
         "0.0",
         "11.5432"
        ],
        [
         "3850",
         "3851",
         "CA-2015-142377",
         "12/4/2015",
         "12/9/2015",
         "Standard Class",
         "MS-17980",
         "Michael Stewart",
         "Corporate",
         "United States",
         "Springfield",
         "Missouri",
         "65807",
         "Central",
         "OFF-PA-10001970-34",
         "Office Supplies",
         "Paper",
         "Xerox 1881",
         "85.96",
         "7",
         "0.0",
         "40.4012"
        ],
        [
         "3949",
         "3950",
         "CA-2016-119963",
         "11/18/2016",
         "11/22/2016",
         "Standard Class",
         "SN-20710",
         "Steve Nguyen",
         "Home Office",
         "United States",
         "Pasadena",
         "Texas",
         "77506",
         "Central",
         "OFF-PA-10001970-34",
         "Office Supplies",
         "Paper",
         "Xerox 1881",
         "19.648",
         "2",
         "0.2",
         "6.6312"
        ],
        [
         "5282",
         "5283",
         "CA-2015-105158",
         "9/5/2015",
         "9/10/2015",
         "Standard Class",
         "SP-20860",
         "Sung Pak",
         "Corporate",
         "United States",
         "Rochester",
         "Minnesota",
         "55901",
         "Central",
         "OFF-PA-10001970-34",
         "Office Supplies",
         "Paper",
         "Xerox 1881",
         "36.84",
         "3",
         "0.0",
         "17.3148"
        ],
        [
         "6334",
         "6335",
         "CA-2014-133305",
         "7/11/2014",
         "7/15/2014",
         "Standard Class",
         "MH-17455",
         "Mark Hamilton",
         "Consumer",
         "United States",
         "New York City",
         "New York",
         "10011",
         "East",
         "OFF-PA-10001970-34",
         "Office Supplies",
         "Paper",
         "Xerox 1881",
         "49.12",
         "4",
         "0.0",
         "23.0864"
        ],
        [
         "6508",
         "6509",
         "CA-2017-102197",
         "12/20/2017",
         "12/26/2017",
         "Standard Class",
         "DK-13150",
         "David Kendrick",
         "Corporate",
         "United States",
         "New York City",
         "New York",
         "10009",
         "East",
         "OFF-PA-10001970-35",
         "Office Supplies",
         "Paper",
         "Xerox 1908",
         "279.9",
         "5",
         "0.0",
         "137.151"
        ],
        [
         "7896",
         "7897",
         "CA-2017-124744",
         "6/21/2017",
         "6/25/2017",
         "Standard Class",
         "EH-14125",
         "Eugene Hildebrand",
         "Home Office",
         "United States",
         "Wheeling",
         "West Virginia",
         "26003",
         "East",
         "OFF-PA-10001970-35",
         "Office Supplies",
         "Paper",
         "Xerox 1908",
         "447.84",
         "8",
         "0.0",
         "219.4416"
        ],
        [
         "8060",
         "8061",
         "CA-2015-156013",
         "9/20/2015",
         "9/26/2015",
         "Standard Class",
         "TC-20980",
         "Tamara Chand",
         "Corporate",
         "United States",
         "Long Beach",
         "New York",
         "11561",
         "East",
         "OFF-PA-10001970-34",
         "Office Supplies",
         "Paper",
         "Xerox 1881",
         "61.4",
         "5",
         "0.0",
         "28.858"
        ],
        [
         "8134",
         "8135",
         "CA-2015-121776",
         "2/16/2015",
         "2/21/2015",
         "Standard Class",
         "RD-19585",
         "Rob Dowd",
         "Consumer",
         "United States",
         "Los Angeles",
         "California",
         "90008",
         "West",
         "OFF-PA-10001970-34",
         "Office Supplies",
         "Paper",
         "Xerox 1881",
         "36.84",
         "3",
         "0.0",
         "17.3148"
        ],
        [
         "9183",
         "9184",
         "CA-2017-156776",
         "8/7/2017",
         "8/11/2017",
         "Standard Class",
         "JL-15505",
         "Jeremy Lonsdale",
         "Consumer",
         "United States",
         "Westminster",
         "California",
         "92683",
         "West",
         "OFF-PA-10001970-34",
         "Office Supplies",
         "Paper",
         "Xerox 1881",
         "24.56",
         "2",
         "0.0",
         "11.5432"
        ],
        [
         "9387",
         "9388",
         "US-2017-127292",
         "1/19/2017",
         "1/23/2017",
         "Standard Class",
         "RM-19375",
         "Raymond Messe",
         "Consumer",
         "United States",
         "Burlington",
         "Vermont",
         "5408",
         "East",
         "OFF-PA-10001970-34",
         "Office Supplies",
         "Paper",
         "Xerox 1881",
         "12.28",
         "1",
         "0.0",
         "5.7716"
        ],
        [
         "9505",
         "9506",
         "CA-2016-113607",
         "10/14/2016",
         "10/18/2016",
         "Standard Class",
         "PW-19030",
         "Pauline Webber",
         "Corporate",
         "United States",
         "New York City",
         "New York",
         "10009",
         "East",
         "OFF-PA-10001970-35",
         "Office Supplies",
         "Paper",
         "Xerox 1908",
         "111.96",
         "2",
         "0.0",
         "54.8604"
        ]
       ],
       "shape": {
        "columns": 21,
        "rows": 19
       }
      },
      "text/html": [
       "<div>\n",
       "<style scoped>\n",
       "    .dataframe tbody tr th:only-of-type {\n",
       "        vertical-align: middle;\n",
       "    }\n",
       "\n",
       "    .dataframe tbody tr th {\n",
       "        vertical-align: top;\n",
       "    }\n",
       "\n",
       "    .dataframe thead th {\n",
       "        text-align: right;\n",
       "    }\n",
       "</style>\n",
       "<table border=\"1\" class=\"dataframe\">\n",
       "  <thead>\n",
       "    <tr style=\"text-align: right;\">\n",
       "      <th></th>\n",
       "      <th>Row ID</th>\n",
       "      <th>Order ID</th>\n",
       "      <th>Order Date</th>\n",
       "      <th>Ship Date</th>\n",
       "      <th>Ship Mode</th>\n",
       "      <th>Customer ID</th>\n",
       "      <th>Customer Name</th>\n",
       "      <th>Segment</th>\n",
       "      <th>Country</th>\n",
       "      <th>City</th>\n",
       "      <th>...</th>\n",
       "      <th>Postal Code</th>\n",
       "      <th>Region</th>\n",
       "      <th>Product ID</th>\n",
       "      <th>Category</th>\n",
       "      <th>Sub-Category</th>\n",
       "      <th>Product Name</th>\n",
       "      <th>Sales</th>\n",
       "      <th>Quantity</th>\n",
       "      <th>Discount</th>\n",
       "      <th>Profit</th>\n",
       "    </tr>\n",
       "  </thead>\n",
       "  <tbody>\n",
       "    <tr>\n",
       "      <th>350</th>\n",
       "      <td>351</td>\n",
       "      <td>CA-2016-129714</td>\n",
       "      <td>9/1/2016</td>\n",
       "      <td>9/3/2016</td>\n",
       "      <td>First Class</td>\n",
       "      <td>AB-10060</td>\n",
       "      <td>Adam Bellavance</td>\n",
       "      <td>Home Office</td>\n",
       "      <td>United States</td>\n",
       "      <td>New York City</td>\n",
       "      <td>...</td>\n",
       "      <td>10009</td>\n",
       "      <td>East</td>\n",
       "      <td>OFF-PA-10001970-34</td>\n",
       "      <td>Office Supplies</td>\n",
       "      <td>Paper</td>\n",
       "      <td>Xerox 1881</td>\n",
       "      <td>24.560</td>\n",
       "      <td>2</td>\n",
       "      <td>0.0</td>\n",
       "      <td>11.5432</td>\n",
       "    </tr>\n",
       "    <tr>\n",
       "      <th>352</th>\n",
       "      <td>353</td>\n",
       "      <td>CA-2016-129714</td>\n",
       "      <td>9/1/2016</td>\n",
       "      <td>9/3/2016</td>\n",
       "      <td>First Class</td>\n",
       "      <td>AB-10060</td>\n",
       "      <td>Adam Bellavance</td>\n",
       "      <td>Home Office</td>\n",
       "      <td>United States</td>\n",
       "      <td>New York City</td>\n",
       "      <td>...</td>\n",
       "      <td>10009</td>\n",
       "      <td>East</td>\n",
       "      <td>OFF-PA-10001970-34</td>\n",
       "      <td>Office Supplies</td>\n",
       "      <td>Paper</td>\n",
       "      <td>Xerox 1881</td>\n",
       "      <td>49.120</td>\n",
       "      <td>4</td>\n",
       "      <td>0.0</td>\n",
       "      <td>23.0864</td>\n",
       "    </tr>\n",
       "    <tr>\n",
       "      <th>411</th>\n",
       "      <td>412</td>\n",
       "      <td>CA-2017-117457</td>\n",
       "      <td>12/8/2017</td>\n",
       "      <td>12/12/2017</td>\n",
       "      <td>Standard Class</td>\n",
       "      <td>KH-16510</td>\n",
       "      <td>Keith Herrera</td>\n",
       "      <td>Consumer</td>\n",
       "      <td>United States</td>\n",
       "      <td>San Francisco</td>\n",
       "      <td>...</td>\n",
       "      <td>94110</td>\n",
       "      <td>West</td>\n",
       "      <td>OFF-PA-10001970-35</td>\n",
       "      <td>Office Supplies</td>\n",
       "      <td>Paper</td>\n",
       "      <td>Xerox 1908</td>\n",
       "      <td>55.980</td>\n",
       "      <td>1</td>\n",
       "      <td>0.0</td>\n",
       "      <td>27.4302</td>\n",
       "    </tr>\n",
       "    <tr>\n",
       "      <th>437</th>\n",
       "      <td>438</td>\n",
       "      <td>CA-2016-147375</td>\n",
       "      <td>6/12/2016</td>\n",
       "      <td>6/14/2016</td>\n",
       "      <td>Second Class</td>\n",
       "      <td>PO-19180</td>\n",
       "      <td>Philisse Overcash</td>\n",
       "      <td>Home Office</td>\n",
       "      <td>United States</td>\n",
       "      <td>Chicago</td>\n",
       "      <td>...</td>\n",
       "      <td>60623</td>\n",
       "      <td>Central</td>\n",
       "      <td>OFF-PA-10001970-35</td>\n",
       "      <td>Office Supplies</td>\n",
       "      <td>Paper</td>\n",
       "      <td>Xerox 1908</td>\n",
       "      <td>313.488</td>\n",
       "      <td>7</td>\n",
       "      <td>0.2</td>\n",
       "      <td>113.6394</td>\n",
       "    </tr>\n",
       "    <tr>\n",
       "      <th>1071</th>\n",
       "      <td>1072</td>\n",
       "      <td>CA-2016-152814</td>\n",
       "      <td>4/28/2016</td>\n",
       "      <td>5/2/2016</td>\n",
       "      <td>Standard Class</td>\n",
       "      <td>EH-14005</td>\n",
       "      <td>Erica Hernandez</td>\n",
       "      <td>Home Office</td>\n",
       "      <td>United States</td>\n",
       "      <td>Denver</td>\n",
       "      <td>...</td>\n",
       "      <td>80219</td>\n",
       "      <td>West</td>\n",
       "      <td>OFF-PA-10001970-34</td>\n",
       "      <td>Office Supplies</td>\n",
       "      <td>Paper</td>\n",
       "      <td>Xerox 1881</td>\n",
       "      <td>29.472</td>\n",
       "      <td>3</td>\n",
       "      <td>0.2</td>\n",
       "      <td>9.9468</td>\n",
       "    </tr>\n",
       "    <tr>\n",
       "      <th>1117</th>\n",
       "      <td>1118</td>\n",
       "      <td>CA-2015-142755</td>\n",
       "      <td>9/4/2015</td>\n",
       "      <td>9/8/2015</td>\n",
       "      <td>Standard Class</td>\n",
       "      <td>CS-12355</td>\n",
       "      <td>Christine Sundaresam</td>\n",
       "      <td>Consumer</td>\n",
       "      <td>United States</td>\n",
       "      <td>Roswell</td>\n",
       "      <td>...</td>\n",
       "      <td>30076</td>\n",
       "      <td>South</td>\n",
       "      <td>OFF-PA-10001970-35</td>\n",
       "      <td>Office Supplies</td>\n",
       "      <td>Paper</td>\n",
       "      <td>Xerox 1908</td>\n",
       "      <td>279.900</td>\n",
       "      <td>5</td>\n",
       "      <td>0.0</td>\n",
       "      <td>137.1510</td>\n",
       "    </tr>\n",
       "    <tr>\n",
       "      <th>1191</th>\n",
       "      <td>1192</td>\n",
       "      <td>CA-2017-117212</td>\n",
       "      <td>2/26/2017</td>\n",
       "      <td>2/28/2017</td>\n",
       "      <td>Second Class</td>\n",
       "      <td>BT-11530</td>\n",
       "      <td>Bradley Talbott</td>\n",
       "      <td>Home Office</td>\n",
       "      <td>United States</td>\n",
       "      <td>Los Angeles</td>\n",
       "      <td>...</td>\n",
       "      <td>90036</td>\n",
       "      <td>West</td>\n",
       "      <td>OFF-PA-10001970-35</td>\n",
       "      <td>Office Supplies</td>\n",
       "      <td>Paper</td>\n",
       "      <td>Xerox 1908</td>\n",
       "      <td>223.920</td>\n",
       "      <td>4</td>\n",
       "      <td>0.0</td>\n",
       "      <td>109.7208</td>\n",
       "    </tr>\n",
       "    <tr>\n",
       "      <th>3663</th>\n",
       "      <td>3664</td>\n",
       "      <td>US-2017-129777</td>\n",
       "      <td>7/3/2017</td>\n",
       "      <td>7/9/2017</td>\n",
       "      <td>Standard Class</td>\n",
       "      <td>FM-14290</td>\n",
       "      <td>Frank Merwin</td>\n",
       "      <td>Home Office</td>\n",
       "      <td>United States</td>\n",
       "      <td>Quincy</td>\n",
       "      <td>...</td>\n",
       "      <td>2169</td>\n",
       "      <td>East</td>\n",
       "      <td>OFF-PA-10001970-34</td>\n",
       "      <td>Office Supplies</td>\n",
       "      <td>Paper</td>\n",
       "      <td>Xerox 1881</td>\n",
       "      <td>24.560</td>\n",
       "      <td>2</td>\n",
       "      <td>0.0</td>\n",
       "      <td>11.5432</td>\n",
       "    </tr>\n",
       "    <tr>\n",
       "      <th>3850</th>\n",
       "      <td>3851</td>\n",
       "      <td>CA-2015-142377</td>\n",
       "      <td>12/4/2015</td>\n",
       "      <td>12/9/2015</td>\n",
       "      <td>Standard Class</td>\n",
       "      <td>MS-17980</td>\n",
       "      <td>Michael Stewart</td>\n",
       "      <td>Corporate</td>\n",
       "      <td>United States</td>\n",
       "      <td>Springfield</td>\n",
       "      <td>...</td>\n",
       "      <td>65807</td>\n",
       "      <td>Central</td>\n",
       "      <td>OFF-PA-10001970-34</td>\n",
       "      <td>Office Supplies</td>\n",
       "      <td>Paper</td>\n",
       "      <td>Xerox 1881</td>\n",
       "      <td>85.960</td>\n",
       "      <td>7</td>\n",
       "      <td>0.0</td>\n",
       "      <td>40.4012</td>\n",
       "    </tr>\n",
       "    <tr>\n",
       "      <th>3949</th>\n",
       "      <td>3950</td>\n",
       "      <td>CA-2016-119963</td>\n",
       "      <td>11/18/2016</td>\n",
       "      <td>11/22/2016</td>\n",
       "      <td>Standard Class</td>\n",
       "      <td>SN-20710</td>\n",
       "      <td>Steve Nguyen</td>\n",
       "      <td>Home Office</td>\n",
       "      <td>United States</td>\n",
       "      <td>Pasadena</td>\n",
       "      <td>...</td>\n",
       "      <td>77506</td>\n",
       "      <td>Central</td>\n",
       "      <td>OFF-PA-10001970-34</td>\n",
       "      <td>Office Supplies</td>\n",
       "      <td>Paper</td>\n",
       "      <td>Xerox 1881</td>\n",
       "      <td>19.648</td>\n",
       "      <td>2</td>\n",
       "      <td>0.2</td>\n",
       "      <td>6.6312</td>\n",
       "    </tr>\n",
       "    <tr>\n",
       "      <th>5282</th>\n",
       "      <td>5283</td>\n",
       "      <td>CA-2015-105158</td>\n",
       "      <td>9/5/2015</td>\n",
       "      <td>9/10/2015</td>\n",
       "      <td>Standard Class</td>\n",
       "      <td>SP-20860</td>\n",
       "      <td>Sung Pak</td>\n",
       "      <td>Corporate</td>\n",
       "      <td>United States</td>\n",
       "      <td>Rochester</td>\n",
       "      <td>...</td>\n",
       "      <td>55901</td>\n",
       "      <td>Central</td>\n",
       "      <td>OFF-PA-10001970-34</td>\n",
       "      <td>Office Supplies</td>\n",
       "      <td>Paper</td>\n",
       "      <td>Xerox 1881</td>\n",
       "      <td>36.840</td>\n",
       "      <td>3</td>\n",
       "      <td>0.0</td>\n",
       "      <td>17.3148</td>\n",
       "    </tr>\n",
       "    <tr>\n",
       "      <th>6334</th>\n",
       "      <td>6335</td>\n",
       "      <td>CA-2014-133305</td>\n",
       "      <td>7/11/2014</td>\n",
       "      <td>7/15/2014</td>\n",
       "      <td>Standard Class</td>\n",
       "      <td>MH-17455</td>\n",
       "      <td>Mark Hamilton</td>\n",
       "      <td>Consumer</td>\n",
       "      <td>United States</td>\n",
       "      <td>New York City</td>\n",
       "      <td>...</td>\n",
       "      <td>10011</td>\n",
       "      <td>East</td>\n",
       "      <td>OFF-PA-10001970-34</td>\n",
       "      <td>Office Supplies</td>\n",
       "      <td>Paper</td>\n",
       "      <td>Xerox 1881</td>\n",
       "      <td>49.120</td>\n",
       "      <td>4</td>\n",
       "      <td>0.0</td>\n",
       "      <td>23.0864</td>\n",
       "    </tr>\n",
       "    <tr>\n",
       "      <th>6508</th>\n",
       "      <td>6509</td>\n",
       "      <td>CA-2017-102197</td>\n",
       "      <td>12/20/2017</td>\n",
       "      <td>12/26/2017</td>\n",
       "      <td>Standard Class</td>\n",
       "      <td>DK-13150</td>\n",
       "      <td>David Kendrick</td>\n",
       "      <td>Corporate</td>\n",
       "      <td>United States</td>\n",
       "      <td>New York City</td>\n",
       "      <td>...</td>\n",
       "      <td>10009</td>\n",
       "      <td>East</td>\n",
       "      <td>OFF-PA-10001970-35</td>\n",
       "      <td>Office Supplies</td>\n",
       "      <td>Paper</td>\n",
       "      <td>Xerox 1908</td>\n",
       "      <td>279.900</td>\n",
       "      <td>5</td>\n",
       "      <td>0.0</td>\n",
       "      <td>137.1510</td>\n",
       "    </tr>\n",
       "    <tr>\n",
       "      <th>7896</th>\n",
       "      <td>7897</td>\n",
       "      <td>CA-2017-124744</td>\n",
       "      <td>6/21/2017</td>\n",
       "      <td>6/25/2017</td>\n",
       "      <td>Standard Class</td>\n",
       "      <td>EH-14125</td>\n",
       "      <td>Eugene Hildebrand</td>\n",
       "      <td>Home Office</td>\n",
       "      <td>United States</td>\n",
       "      <td>Wheeling</td>\n",
       "      <td>...</td>\n",
       "      <td>26003</td>\n",
       "      <td>East</td>\n",
       "      <td>OFF-PA-10001970-35</td>\n",
       "      <td>Office Supplies</td>\n",
       "      <td>Paper</td>\n",
       "      <td>Xerox 1908</td>\n",
       "      <td>447.840</td>\n",
       "      <td>8</td>\n",
       "      <td>0.0</td>\n",
       "      <td>219.4416</td>\n",
       "    </tr>\n",
       "    <tr>\n",
       "      <th>8060</th>\n",
       "      <td>8061</td>\n",
       "      <td>CA-2015-156013</td>\n",
       "      <td>9/20/2015</td>\n",
       "      <td>9/26/2015</td>\n",
       "      <td>Standard Class</td>\n",
       "      <td>TC-20980</td>\n",
       "      <td>Tamara Chand</td>\n",
       "      <td>Corporate</td>\n",
       "      <td>United States</td>\n",
       "      <td>Long Beach</td>\n",
       "      <td>...</td>\n",
       "      <td>11561</td>\n",
       "      <td>East</td>\n",
       "      <td>OFF-PA-10001970-34</td>\n",
       "      <td>Office Supplies</td>\n",
       "      <td>Paper</td>\n",
       "      <td>Xerox 1881</td>\n",
       "      <td>61.400</td>\n",
       "      <td>5</td>\n",
       "      <td>0.0</td>\n",
       "      <td>28.8580</td>\n",
       "    </tr>\n",
       "    <tr>\n",
       "      <th>8134</th>\n",
       "      <td>8135</td>\n",
       "      <td>CA-2015-121776</td>\n",
       "      <td>2/16/2015</td>\n",
       "      <td>2/21/2015</td>\n",
       "      <td>Standard Class</td>\n",
       "      <td>RD-19585</td>\n",
       "      <td>Rob Dowd</td>\n",
       "      <td>Consumer</td>\n",
       "      <td>United States</td>\n",
       "      <td>Los Angeles</td>\n",
       "      <td>...</td>\n",
       "      <td>90008</td>\n",
       "      <td>West</td>\n",
       "      <td>OFF-PA-10001970-34</td>\n",
       "      <td>Office Supplies</td>\n",
       "      <td>Paper</td>\n",
       "      <td>Xerox 1881</td>\n",
       "      <td>36.840</td>\n",
       "      <td>3</td>\n",
       "      <td>0.0</td>\n",
       "      <td>17.3148</td>\n",
       "    </tr>\n",
       "    <tr>\n",
       "      <th>9183</th>\n",
       "      <td>9184</td>\n",
       "      <td>CA-2017-156776</td>\n",
       "      <td>8/7/2017</td>\n",
       "      <td>8/11/2017</td>\n",
       "      <td>Standard Class</td>\n",
       "      <td>JL-15505</td>\n",
       "      <td>Jeremy Lonsdale</td>\n",
       "      <td>Consumer</td>\n",
       "      <td>United States</td>\n",
       "      <td>Westminster</td>\n",
       "      <td>...</td>\n",
       "      <td>92683</td>\n",
       "      <td>West</td>\n",
       "      <td>OFF-PA-10001970-34</td>\n",
       "      <td>Office Supplies</td>\n",
       "      <td>Paper</td>\n",
       "      <td>Xerox 1881</td>\n",
       "      <td>24.560</td>\n",
       "      <td>2</td>\n",
       "      <td>0.0</td>\n",
       "      <td>11.5432</td>\n",
       "    </tr>\n",
       "    <tr>\n",
       "      <th>9387</th>\n",
       "      <td>9388</td>\n",
       "      <td>US-2017-127292</td>\n",
       "      <td>1/19/2017</td>\n",
       "      <td>1/23/2017</td>\n",
       "      <td>Standard Class</td>\n",
       "      <td>RM-19375</td>\n",
       "      <td>Raymond Messe</td>\n",
       "      <td>Consumer</td>\n",
       "      <td>United States</td>\n",
       "      <td>Burlington</td>\n",
       "      <td>...</td>\n",
       "      <td>5408</td>\n",
       "      <td>East</td>\n",
       "      <td>OFF-PA-10001970-34</td>\n",
       "      <td>Office Supplies</td>\n",
       "      <td>Paper</td>\n",
       "      <td>Xerox 1881</td>\n",
       "      <td>12.280</td>\n",
       "      <td>1</td>\n",
       "      <td>0.0</td>\n",
       "      <td>5.7716</td>\n",
       "    </tr>\n",
       "    <tr>\n",
       "      <th>9505</th>\n",
       "      <td>9506</td>\n",
       "      <td>CA-2016-113607</td>\n",
       "      <td>10/14/2016</td>\n",
       "      <td>10/18/2016</td>\n",
       "      <td>Standard Class</td>\n",
       "      <td>PW-19030</td>\n",
       "      <td>Pauline Webber</td>\n",
       "      <td>Corporate</td>\n",
       "      <td>United States</td>\n",
       "      <td>New York City</td>\n",
       "      <td>...</td>\n",
       "      <td>10009</td>\n",
       "      <td>East</td>\n",
       "      <td>OFF-PA-10001970-35</td>\n",
       "      <td>Office Supplies</td>\n",
       "      <td>Paper</td>\n",
       "      <td>Xerox 1908</td>\n",
       "      <td>111.960</td>\n",
       "      <td>2</td>\n",
       "      <td>0.0</td>\n",
       "      <td>54.8604</td>\n",
       "    </tr>\n",
       "  </tbody>\n",
       "</table>\n",
       "<p>19 rows × 21 columns</p>\n",
       "</div>"
      ],
      "text/plain": [
       "      Row ID        Order ID  Order Date   Ship Date       Ship Mode  \\\n",
       "350      351  CA-2016-129714    9/1/2016    9/3/2016     First Class   \n",
       "352      353  CA-2016-129714    9/1/2016    9/3/2016     First Class   \n",
       "411      412  CA-2017-117457   12/8/2017  12/12/2017  Standard Class   \n",
       "437      438  CA-2016-147375   6/12/2016   6/14/2016    Second Class   \n",
       "1071    1072  CA-2016-152814   4/28/2016    5/2/2016  Standard Class   \n",
       "1117    1118  CA-2015-142755    9/4/2015    9/8/2015  Standard Class   \n",
       "1191    1192  CA-2017-117212   2/26/2017   2/28/2017    Second Class   \n",
       "3663    3664  US-2017-129777    7/3/2017    7/9/2017  Standard Class   \n",
       "3850    3851  CA-2015-142377   12/4/2015   12/9/2015  Standard Class   \n",
       "3949    3950  CA-2016-119963  11/18/2016  11/22/2016  Standard Class   \n",
       "5282    5283  CA-2015-105158    9/5/2015   9/10/2015  Standard Class   \n",
       "6334    6335  CA-2014-133305   7/11/2014   7/15/2014  Standard Class   \n",
       "6508    6509  CA-2017-102197  12/20/2017  12/26/2017  Standard Class   \n",
       "7896    7897  CA-2017-124744   6/21/2017   6/25/2017  Standard Class   \n",
       "8060    8061  CA-2015-156013   9/20/2015   9/26/2015  Standard Class   \n",
       "8134    8135  CA-2015-121776   2/16/2015   2/21/2015  Standard Class   \n",
       "9183    9184  CA-2017-156776    8/7/2017   8/11/2017  Standard Class   \n",
       "9387    9388  US-2017-127292   1/19/2017   1/23/2017  Standard Class   \n",
       "9505    9506  CA-2016-113607  10/14/2016  10/18/2016  Standard Class   \n",
       "\n",
       "     Customer ID         Customer Name      Segment        Country  \\\n",
       "350     AB-10060       Adam Bellavance  Home Office  United States   \n",
       "352     AB-10060       Adam Bellavance  Home Office  United States   \n",
       "411     KH-16510         Keith Herrera     Consumer  United States   \n",
       "437     PO-19180     Philisse Overcash  Home Office  United States   \n",
       "1071    EH-14005       Erica Hernandez  Home Office  United States   \n",
       "1117    CS-12355  Christine Sundaresam     Consumer  United States   \n",
       "1191    BT-11530       Bradley Talbott  Home Office  United States   \n",
       "3663    FM-14290          Frank Merwin  Home Office  United States   \n",
       "3850    MS-17980       Michael Stewart    Corporate  United States   \n",
       "3949    SN-20710          Steve Nguyen  Home Office  United States   \n",
       "5282    SP-20860              Sung Pak    Corporate  United States   \n",
       "6334    MH-17455         Mark Hamilton     Consumer  United States   \n",
       "6508    DK-13150        David Kendrick    Corporate  United States   \n",
       "7896    EH-14125     Eugene Hildebrand  Home Office  United States   \n",
       "8060    TC-20980          Tamara Chand    Corporate  United States   \n",
       "8134    RD-19585              Rob Dowd     Consumer  United States   \n",
       "9183    JL-15505       Jeremy Lonsdale     Consumer  United States   \n",
       "9387    RM-19375         Raymond Messe     Consumer  United States   \n",
       "9505    PW-19030        Pauline Webber    Corporate  United States   \n",
       "\n",
       "               City  ... Postal Code   Region          Product ID  \\\n",
       "350   New York City  ...       10009     East  OFF-PA-10001970-34   \n",
       "352   New York City  ...       10009     East  OFF-PA-10001970-34   \n",
       "411   San Francisco  ...       94110     West  OFF-PA-10001970-35   \n",
       "437         Chicago  ...       60623  Central  OFF-PA-10001970-35   \n",
       "1071         Denver  ...       80219     West  OFF-PA-10001970-34   \n",
       "1117        Roswell  ...       30076    South  OFF-PA-10001970-35   \n",
       "1191    Los Angeles  ...       90036     West  OFF-PA-10001970-35   \n",
       "3663         Quincy  ...        2169     East  OFF-PA-10001970-34   \n",
       "3850    Springfield  ...       65807  Central  OFF-PA-10001970-34   \n",
       "3949       Pasadena  ...       77506  Central  OFF-PA-10001970-34   \n",
       "5282      Rochester  ...       55901  Central  OFF-PA-10001970-34   \n",
       "6334  New York City  ...       10011     East  OFF-PA-10001970-34   \n",
       "6508  New York City  ...       10009     East  OFF-PA-10001970-35   \n",
       "7896       Wheeling  ...       26003     East  OFF-PA-10001970-35   \n",
       "8060     Long Beach  ...       11561     East  OFF-PA-10001970-34   \n",
       "8134    Los Angeles  ...       90008     West  OFF-PA-10001970-34   \n",
       "9183    Westminster  ...       92683     West  OFF-PA-10001970-34   \n",
       "9387     Burlington  ...        5408     East  OFF-PA-10001970-34   \n",
       "9505  New York City  ...       10009     East  OFF-PA-10001970-35   \n",
       "\n",
       "             Category Sub-Category Product Name    Sales  Quantity  Discount  \\\n",
       "350   Office Supplies        Paper   Xerox 1881   24.560         2       0.0   \n",
       "352   Office Supplies        Paper   Xerox 1881   49.120         4       0.0   \n",
       "411   Office Supplies        Paper   Xerox 1908   55.980         1       0.0   \n",
       "437   Office Supplies        Paper   Xerox 1908  313.488         7       0.2   \n",
       "1071  Office Supplies        Paper   Xerox 1881   29.472         3       0.2   \n",
       "1117  Office Supplies        Paper   Xerox 1908  279.900         5       0.0   \n",
       "1191  Office Supplies        Paper   Xerox 1908  223.920         4       0.0   \n",
       "3663  Office Supplies        Paper   Xerox 1881   24.560         2       0.0   \n",
       "3850  Office Supplies        Paper   Xerox 1881   85.960         7       0.0   \n",
       "3949  Office Supplies        Paper   Xerox 1881   19.648         2       0.2   \n",
       "5282  Office Supplies        Paper   Xerox 1881   36.840         3       0.0   \n",
       "6334  Office Supplies        Paper   Xerox 1881   49.120         4       0.0   \n",
       "6508  Office Supplies        Paper   Xerox 1908  279.900         5       0.0   \n",
       "7896  Office Supplies        Paper   Xerox 1908  447.840         8       0.0   \n",
       "8060  Office Supplies        Paper   Xerox 1881   61.400         5       0.0   \n",
       "8134  Office Supplies        Paper   Xerox 1881   36.840         3       0.0   \n",
       "9183  Office Supplies        Paper   Xerox 1881   24.560         2       0.0   \n",
       "9387  Office Supplies        Paper   Xerox 1881   12.280         1       0.0   \n",
       "9505  Office Supplies        Paper   Xerox 1908  111.960         2       0.0   \n",
       "\n",
       "        Profit  \n",
       "350    11.5432  \n",
       "352    23.0864  \n",
       "411    27.4302  \n",
       "437   113.6394  \n",
       "1071    9.9468  \n",
       "1117  137.1510  \n",
       "1191  109.7208  \n",
       "3663   11.5432  \n",
       "3850   40.4012  \n",
       "3949    6.6312  \n",
       "5282   17.3148  \n",
       "6334   23.0864  \n",
       "6508  137.1510  \n",
       "7896  219.4416  \n",
       "8060   28.8580  \n",
       "8134   17.3148  \n",
       "9183   11.5432  \n",
       "9387    5.7716  \n",
       "9505   54.8604  \n",
       "\n",
       "[19 rows x 21 columns]"
      ]
     },
     "execution_count": 147,
     "metadata": {},
     "output_type": "execute_result"
    }
   ],
   "source": [
    "# OFF-PA-10001970\n",
    "\n",
    "df_source[df_source['Product ID'].str.contains(\"OFF-PA-10001970\")]"
   ]
  },
  {
   "cell_type": "code",
   "execution_count": null,
   "id": "f5e334e9",
   "metadata": {},
   "outputs": [],
   "source": []
  }
 ],
 "metadata": {
  "kernelspec": {
   "display_name": ".venv",
   "language": "python",
   "name": "python3"
  },
  "language_info": {
   "codemirror_mode": {
    "name": "ipython",
    "version": 3
   },
   "file_extension": ".py",
   "mimetype": "text/x-python",
   "name": "python",
   "nbconvert_exporter": "python",
   "pygments_lexer": "ipython3",
   "version": "3.12.10"
  }
 },
 "nbformat": 4,
 "nbformat_minor": 5
}
